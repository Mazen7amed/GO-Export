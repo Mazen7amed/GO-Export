{
 "cells": [
  {
   "cell_type": "code",
   "execution_count": 2,
   "metadata": {
    "ExecuteTime": {
     "end_time": "2024-07-02T17:40:10.209962Z",
     "start_time": "2024-07-02T17:40:10.188961Z"
    },
    "collapsed": true,
    "jupyter": {
     "outputs_hidden": true
    },
    "vscode": {
     "languageId": "powershell"
    }
   },
   "outputs": [],
   "source": [
    "from scraper.suchen_mobile_de import SuchenMobileDe\n",
    "import pandas as pd\n",
    "import os\n",
    "import requests\n",
    "import shutil\n",
    "from PIL import Image\n",
    "from model import create_pdf_car_parts"
   ]
  },
  {
   "cell_type": "markdown",
   "metadata": {},
   "source": []
  },
  {
   "cell_type": "code",
   "execution_count": null,
   "metadata": {
    "collapsed": true,
    "jupyter": {
     "outputs_hidden": true
    },
    "vscode": {
     "languageId": "powershell"
    }
   },
   "outputs": [],
   "source": [
    "def download_images(image_urls):\n",
    "    # Create the \"images\" directory if it doesn't exist\n",
    "    os.makedirs(\"images\", exist_ok=True)\n",
    "    \n",
    "    # Remove all files from the \"images\" directory\n",
    "    for filename in os.listdir(\"images\"):\n",
    "        file_path = os.path.join(\"images\", filename)\n",
    "        try:\n",
    "            if os.path.isfile(file_path):\n",
    "                os.remove(file_path)\n",
    "        except Exception as e:\n",
    "            print(f\"Failed to delete {file_path}: {e}\")\n",
    "\n",
    "    # Download new images\n",
    "    for i, url in enumerate(image_urls):\n",
    "        try:\n",
    "            response = requests.get(url)\n",
    "            if response.status_code == 200:\n",
    "                with open(os.path.join(\"images\", f\"img-{i}.jpg\"), 'wb') as f:\n",
    "                    f.write(response.content)\n",
    "                print(f\"Downloaded image {i} out of {len(image_urls)}\")\n",
    "            else:\n",
    "                print(f\"Failed to download image {i}: HTTP status code {response.status_code}\")\n",
    "        except Exception as e:\n",
    "            print(f\"Failed to download image {i}: {e}\")\n",
    "            \n",
    "            \n",
    "            \n",
    "def process_images(source_folder, destination_folder):\n",
    "    # Delete everything in the destination folder\n",
    "    if os.path.exists(destination_folder):\n",
    "        shutil.rmtree(destination_folder)\n",
    "    os.makedirs(destination_folder, exist_ok=True)\n",
    "    \n",
    "    for filename in os.listdir(source_folder):\n",
    "        if filename.endswith((\".jpg\", \".jpeg\", \".png\")):\n",
    "            image_path = os.path.join(source_folder, filename)\n",
    "            try:\n",
    "                img = Image.open(image_path)\n",
    "                predicted_label = create_pdf_car_parts.predict_label(img)  # Correctly call predict_label from the model instance\n",
    "                # Create a subfolder in the destination folder for each predicted label\n",
    "                label_folder = os.path.join(destination_folder, predicted_label)\n",
    "                os.makedirs(label_folder, exist_ok=True)\n",
    "                # Save the image in the corresponding label folder\n",
    "                img.save(os.path.join(label_folder, filename))\n",
    "                print(f\"Processed image {filename}: Predicted label - {predicted_label}\")\n",
    "            except Exception as e:\n",
    "                print(f\"Error processing image {filename}: {e}\")\n"
   ]
  },
  {
   "cell_type": "code",
   "execution_count": null,
   "metadata": {
    "collapsed": true,
    "jupyter": {
     "outputs_hidden": true
    },
    "vscode": {
     "languageId": "powershell"
    }
   },
   "outputs": [],
   "source": [
    "df = pd.read_excel('Scraped_Data.xlsx')\n",
    "\n",
    "# Convert the DataFrame to a dictionary with column headers as keys and rows as values\n",
    "excel_data = df.to_dict(orient='records')\n",
    "\n",
    "# Create a dictionary to store processed data\n",
    "excel_data = car_purchase_data.pop()\n",
    "\n",
    "\n",
    "url = car_purchase_data.get(\"ad_link\")\n",
    "\n",
    "car_purchase_data.pop(\"ad_link\")\n",
    "mobile_de_scraper = SuchenMobileDe(url)\n",
    "api_data = mobile_de_scraper.scrape_data()\n",
    "\n",
    "\n",
    "\n",
    "download_images(api_data.get(\"car_images\"))\n",
    "source_folder = \"images\"  # Replace with the path to your source folder\n",
    "destination_folder = \"images\\\\car parts\"  # Replace with the destination folder\n",
    "process_images(source_folder, destination_folder)"
   ]
  },
  {
   "cell_type": "code",
   "execution_count": null,
   "metadata": {
    "collapsed": true,
    "jupyter": {
     "outputs_hidden": true
    },
    "vscode": {
     "languageId": "powershell"
    }
   },
   "outputs": [],
   "source": [
    "from pdf_generator import PdfGenerator as pdf\n",
    "\n",
    "selected_language = 'en'\n",
    "use_manual =True\n",
    "\n",
    "pdf(api_data,excel_data,selected_language,use_manual).generate_pdf()"
   ]
  },
  {
   "cell_type": "code",
   "execution_count": null,
   "metadata": {
    "collapsed": true,
    "jupyter": {
     "outputs_hidden": true
    },
    "vscode": {
     "languageId": "powershell"
    }
   },
   "outputs": [],
   "source": []
  },
  {
   "cell_type": "code",
   "execution_count": null,
   "metadata": {
    "collapsed": true,
    "jupyter": {
     "outputs_hidden": true
    },
    "vscode": {
     "languageId": "powershell"
    }
   },
   "outputs": [],
   "source": []
  },
  {
   "cell_type": "code",
   "execution_count": null,
   "metadata": {
    "collapsed": true,
    "jupyter": {
     "outputs_hidden": true
    },
    "vscode": {
     "languageId": "powershell"
    }
   },
   "outputs": [],
   "source": []
  },
  {
   "cell_type": "code",
   "execution_count": null,
   "metadata": {
    "collapsed": true,
    "jupyter": {
     "outputs_hidden": true
    },
    "vscode": {
     "languageId": "powershell"
    }
   },
   "outputs": [],
   "source": []
  },
  {
   "cell_type": "code",
   "execution_count": null,
   "metadata": {
    "collapsed": true,
    "jupyter": {
     "outputs_hidden": true
    },
    "vscode": {
     "languageId": "powershell"
    }
   },
   "outputs": [],
   "source": []
  },
  {
   "cell_type": "code",
   "execution_count": null,
   "metadata": {
    "collapsed": true,
    "jupyter": {
     "outputs_hidden": true
    },
    "vscode": {
     "languageId": "powershell"
    }
   },
   "outputs": [],
   "source": [
    "\n",
    "from scraper.autoScout24_de import AutoScout24De ,MyPipeline\n",
    "from scrapy.crawler import CrawlerProcess\n",
    "# URL to scrape\n",
    "url = \"https://www.autoscout24.com/offers/audi-a5-coupe-3-0-tdi-quattro-navi-acc-xenon-b-o-shz-diesel-white-5c56a2c1-cb50-48c0-a500-6a7b30d58dcb?ipc=recommendation&ipl=homepage-engine-itemBased&position=2&source_otp=t50&source=homepage_most-searched\"\n",
    "\n",
    "process = CrawlerProcess()\n",
    "process.crawl(AutoScout24De, urls=[url])\n",
    "process.start()"
   ]
  },
  {
   "cell_type": "code",
   "execution_count": null,
   "metadata": {
    "collapsed": true,
    "jupyter": {
     "outputs_hidden": true
    },
    "vscode": {
     "languageId": "powershell"
    }
   },
   "outputs": [],
   "source": [
    "import scrappyPipeline\n",
    "data_dict = scrappyPipeline.read_data(\"api\\\\item.json\")\n",
    "\n",
    "download_images(data_dict.get(\"car_images\"))\n",
    "source_folder = \"images\"  # Replace with the path to your source folder\n",
    "destination_folder = \"images\\\\car parts\"  # Replace with the destination folder\n",
    "process_images(source_folder, destination_folder)\n"
   ]
  },
  {
   "cell_type": "code",
   "execution_count": null,
   "metadata": {
    "collapsed": true,
    "jupyter": {
     "outputs_hidden": true
    },
    "vscode": {
     "languageId": "powershell"
    }
   },
   "outputs": [],
   "source": []
  },
  {
   "cell_type": "code",
   "execution_count": null,
   "metadata": {
    "collapsed": true,
    "jupyter": {
     "outputs_hidden": true
    },
    "vscode": {
     "languageId": "powershell"
    }
   },
   "outputs": [],
   "source": [
    "\"\"\"seller_name = form_data_page1.get(\"seller_name\", \"Mr.\")\n",
    "seller_phone = form_data_page1.get(\"seller_phone\", \"xxxxxxxxxxx\")\n",
    "selected_language = form_data_page1.get(\"pdf_language\": \"en\")\n",
    "euroRate = form_data_page1.get(\"euroRate\", 0)\n",
    "Eur1 = form_data_page2.get(\"countryOfOrigin \", 0)\n",
    "Fees = form_data_page2.get(\"go_fees\", 0)\n",
    "Germany_Shipping = form_data_page2.get(\"germanyShipping\", 0)\n",
    "Port_Customs_Fees = form_data_page2.get(\"custom_Fees\", 0)\n",
    "use_manual = form_data_page2.get(\"manual\", False)\n",
    "\"\"\"\n",
    "\n",
    "\"\"\"purchaser_name = car_purchase_data.get(\"purchaser_name\", \"NA\").replace(\" \", \"\")\n",
    "index = excel_data.get(\"Index\", 0)\n",
    "quotation_num = excel_data.get(\"quotation_num\", \"\")\n",
    "Gender = excel_data.get(\"Gender\", 0)\n",
    "if Gender == \"Male\":\n",
    "    gender_title = \"Mr.\"\n",
    "else:\n",
    "    gender_title = \"Ms.\"\n",
    "purchaser_name = excel_data.get(\"purchaser_name\", \"(PURCHASER NAME)\")\n",
    "purchaser_phone = excel_data.get(\"purchaser_phone\", \"(PHONE NO)\")\n",
    "purchaser_email = excel_data.get(\"purchaser_email\", \"\")\n",
    "Customs_option = excel_data.get(\"Customs_option\", 0)\n",
    "Egyptian_Customs = excel_data.get(\"Egyptian_Customs\", 0)\n",
    "destination_city = excel_data.get(\"destination_city\", \"Alexandria\")\"\"\"\n",
    "\n",
    "\"\"\"input_data = {\n",
    "    \"purchaser_name\": excel_data.get(\"purchaser_name\", \"NA\").replace(\" \", \"\"),\n",
    "    \"index\": excel_data.get(\"Index\", 0),\n",
    "    \"quotation_num\": excel_data.get(\"quotation_num\", \"\"),\n",
    "    \"Gender\": excel_data.get(\"Gender\", 0),\n",
    "    \"gender_title\": \"Mr.\" if excel_data.get(\"Gender\", 0) == \"Male\" else \"Ms.\",\n",
    "    \"purchaser_phone\": excel_data.get(\"purchaser_phone\", \"(PHONE NO)\"),\n",
    "    \"purchaser_email\": excel_data.get(\"purchaser_email\", \"\"),\n",
    "    \"Customs_option\": excel_data.get(\"Customs_option\", 0),\n",
    "    \"Egyptian_Customs\": excel_data.get(\"Egyptian_Customs\", 0),\n",
    "    \"destination_city\": excel_data.get(\"destination_city\", \"Alexandria\"),\n",
    "    \"seller_name\": form_data_page1.get(\"seller_name\", \"Mr.\"),\n",
    "    \"seller_phone\": form_data_page1.get(\"seller_phone\", \"xxxxxxxxxxx\"),\n",
    "    \"selected_language\": form_data_page1.get(\"pdf_language\", \"en\"),\n",
    "    \"euroRate\": form_data_page1.get(\"euroRate\", 0),\n",
    "    \"Eur1\": form_data_page2.get(\"countryOfOrigin\", 0),\n",
    "    \"Fees\": form_data_page2.get(\"go_fees\", 0),\n",
    "    \"Germany_Shipping\": form_data_page2.get(\"germanyShipping\", 0),\n",
    "    \"Port_Customs_Fees\": form_data_page2.get(\"custom_Fees\", 0),\n",
    "    \"use_manual\": form_data_page2.get(\"manual\", False)\n",
    "}\n",
    "\"\"\""
   ]
  },
  {
   "cell_type": "code",
   "execution_count": null,
   "metadata": {
    "collapsed": true,
    "jupyter": {
     "outputs_hidden": true
    },
    "vscode": {
     "languageId": "powershell"
    }
   },
   "outputs": [],
   "source": [
    "import scrapy\n",
    "from scrapy.crawler import CrawlerRunner\n",
    "from scrapy.utils.project import get_project_settings\n",
    "from scraper.autoScout24_de import AutoScout24De  # Adjust this import based on your project structure\n",
    "from crochet import setup, wait_for\n",
    "\n",
    "setup()\n",
    "\n",
    "# URL(s) to scrape\n",
    "url = 'https://www.autoscout24.de/angebote/mercedes-benz-cls-350-d-blue-tec-euro-6-leder-multibeam-navi-tw-diesel-grau-e8f6b846-9979-4243-8f49-384d6e492bc2?ipc=recommendation&ipl=homepage-engine-itemBased&position=1&source_otp=t50&source=homepage_most-searched'\n",
    "\n",
    "# Variable to store scraped data\n",
    "scraped_data = []\n",
    "\n",
    "class SaveDataPipeline:\n",
    "    def process_item(self, item, spider):\n",
    "        scraped_data.append(item)\n",
    "        return item\n",
    "\n",
    "@wait_for(10)\n",
    "def run_spider():\n",
    "    \"\"\"run spider with AutoScout24De\"\"\"\n",
    "    settings = get_project_settings()\n",
    "    settings.set('ITEM_PIPELINES', {\n",
    "        '__main__.SaveDataPipeline': 100,\n",
    "    })  # Set the item pipeline\n",
    "\n",
    "    crawler = CrawlerRunner(settings)\n",
    "    d = crawler.crawl(AutoScout24De, urls=[url])\n",
    "    return d\n",
    "\n",
    "run_spider()\n",
    "\n",
    "# Now, scraped_data will contain the items scraped by the spider\n",
    "print(scraped_data)\n"
   ]
  },
  {
   "cell_type": "code",
   "execution_count": null,
   "metadata": {
    "collapsed": true,
    "jupyter": {
     "outputs_hidden": true
    },
    "vscode": {
     "languageId": "powershell"
    }
   },
   "outputs": [],
   "source": []
  },
  {
   "cell_type": "code",
   "execution_count": null,
   "metadata": {
    "collapsed": true,
    "jupyter": {
     "outputs_hidden": true
    },
    "vscode": {
     "languageId": "powershell"
    }
   },
   "outputs": [],
   "source": [
    "from use_manual_scrapper import run_spider,SaveDataPipeline,get_scraped_data\n",
    "url = 'https://www.autoscout24.de/angebote/mercedes-benz-cls-350-d-blue-tec-euro-6-leder-multibeam-navi-tw-diesel-grau-e8f6b846-9979-4243-8f49-384d6e492bc2?ipc=recommendation&ipl=homepage-engine-itemBased&position=1&source_otp=t50&source=homepage_most-searched'\n",
    "\n",
    "# Run the spider\n",
    "run_spider(url)\n",
    "\n",
    "# Wait for the spider to finish\n",
    "# Get the scraped data\n",
    "data = get_scraped_data()\n",
    "print(data)  # Print or process the scraped data as needed\n"
   ]
  },
  {
   "cell_type": "code",
   "execution_count": null,
   "metadata": {
    "collapsed": true,
    "jupyter": {
     "outputs_hidden": true
    },
    "vscode": {
     "languageId": "powershell"
    }
   },
   "outputs": [],
   "source": [
    "df = pd.read_excel(\"Manual_Data.xlsx\")\n",
    "df.head(10)"
   ]
  },
  {
   "cell_type": "code",
   "execution_count": null,
   "metadata": {
    "collapsed": true,
    "jupyter": {
     "outputs_hidden": true
    },
    "vscode": {
     "languageId": "powershell"
    }
   },
   "outputs": [],
   "source": [
    "df[\"car_features\"].values.tolist()"
   ]
  },
  {
   "cell_type": "code",
   "execution_count": null,
   "metadata": {
    "collapsed": true,
    "jupyter": {
     "outputs_hidden": true
    },
    "vscode": {
     "languageId": "powershell"
    }
   },
   "outputs": [],
   "source": [
    "def car_price_Autoscout(target_price, price_options):\n",
    "    # Using binary search to find the smallest price greater than or equal to target_price\n",
    "    low, high = 0, len(price_options) - 1\n",
    "    result = None\n",
    "\n",
    "    while low <= high:\n",
    "        mid = (low + high) // 2\n",
    "        if price_options[mid] >= target_price:\n",
    "            result = price_options[mid]\n",
    "            high = mid - 1\n",
    "        else:\n",
    "            low = mid + 1\n",
    "\n",
    "    return result\n",
    "\n",
    "# List of price options parsed from the HTML\n",
    "price_options = [\n",
    "    500, 1000, 1500, 2000, 2500, 3000, 4000, 5000, 6000, 7000, 8000, 9000, 10000,\n",
    "    12500, 15000, 17500, 20000, 25000, 30000, 40000, 50000, 75000, 100000\n",
    "]\n",
    "\n",
    "# Example usage\n",
    "target_price = df[\"car_price\"][0]\n",
    "nearest_price = car_price_Autoscout(target_price, price_options)\n",
    "print(f\"The nearest highest price to {target_price} is {nearest_price}\")\n"
   ]
  },
  {
   "cell_type": "code",
   "execution_count": null,
   "metadata": {
    "collapsed": true,
    "jupyter": {
     "outputs_hidden": true
    },
    "vscode": {
     "languageId": "powershell"
    }
   },
   "outputs": [],
   "source": []
  },
  {
   "cell_type": "code",
   "execution_count": null,
   "metadata": {
    "collapsed": true,
    "jupyter": {
     "outputs_hidden": true
    },
    "vscode": {
     "languageId": "powershell"
    }
   },
   "outputs": [],
   "source": [
    "# Defining a dictionary with placeholders or sample data\n",
    "\n",
    "import pandas as pd\n",
    "df = pd.read_excel(\"Data/Manual_Data.xlsx\")\n",
    "\n",
    "excel_data = {\n",
    "    \"purchaser_name\": df[\"purchaser_name\"][0],\n",
    "    \"Index\": df[\"Index\"][0],\n",
    "    \"quotation_num\": df[\"quotation_num\"][0],\n",
    "    \"Gender\": df[\"Gender\"][0],\n",
    "    \"gender_title\": \"Mr.\" if df[\"Gender\"][0] == \"Male\" else \"Ms.\",\n",
    "    \"purchaser_phone\": df[\"purchaser_phone\"][0],\n",
    "    \"purchaser_email\": df[\"purchaser_email\"][0],\n",
    "    \"Customs_option\": df[\"Customs_option\"][0],\n",
    "    \"Egyptian_Customs\": df[\"Egyptian_Customs\"][0],\n",
    "    \"destination_city\": df[\"destination_city\"][0],\n",
    "\n",
    "}\n",
    "\n",
    "\n",
    "\n"
   ]
  },
  {
   "cell_type": "code",
   "execution_count": null,
   "metadata": {
    "collapsed": true,
    "jupyter": {
     "outputs_hidden": true
    },
    "vscode": {
     "languageId": "powershell"
    }
   },
   "outputs": [],
   "source": []
  },
  {
   "cell_type": "code",
   "execution_count": null,
   "metadata": {
    "collapsed": true,
    "jupyter": {
     "outputs_hidden": true
    },
    "vscode": {
     "languageId": "powershell"
    }
   },
   "outputs": [],
   "source": [
    "df = pd.read_excel(\"Data/Manual_Data.xlsx\")\n",
    "\n",
    "\n",
    "\n",
    "\n",
    "\n",
    "car_specifications ={k: v for k, v in zip(df[\"car_specifications_key\"][0:8].values.tolist(), df[\"car_specifications_value\"][0:8].values.tolist())}\n",
    "api_data = {\"car_title\":car_specifications.get(\"Manufacturer Brand\") + \" \"+ car_specifications.get(\"Model\"),\n",
    "                \"manufacturer_brand\": car_specifications.get(\"Manufacturer Brand\"),\n",
    "                \"model\":car_specifications.get(\"Model\"),\n",
    "                \"EngineSize\":df[\"EngineSize\"][0],\n",
    "                \"car_features\":df[\"car_features\"].values.tolist(),\n",
    "                \"car_images\":[],\n",
    "                \"car_price\":df[\"car_price\"][0],\n",
    "                \"mileage\":car_specifications.get(\"Mileage\"),\n",
    "                \"fuel\" : car_specifications.get(\"Fuel\"),\n",
    "                \"transmission\" : car_specifications.get(\"Transmission\"),\n",
    "                \"power\" : car_specifications.get(\"Power\"),\n",
    "                \"color\":car_specifications.get(\"Color\"),\n",
    "                \"firstregistration\" : car_specifications.get(\"First Registration\")\n",
    "                }\n",
    "\n",
    "manufacturer_brand = api_data.get(\"manufacturer_brand\", \"\").lower().replace(\" \",\"-\")\n",
    "model = api_data.get(\"model\", \"\").lower().replace(\" \",\"-\")\n",
    "color = api_data.get(\"color\", \"\").lower().replace(\" \",\"-\")\n",
    "url = f\"https://www.autoscout24.de/lst/{manufacturer_brand}/{model}/bc_{color}?atype=C&cy=D&damaged_listing=exclude&desc=0&ocs_listing=include&powertype=kw&search_id=mbb2mv9nca&sort=standard&source=detailsearch\"\n",
    "url\n"
   ]
  },
  {
   "cell_type": "code",
   "execution_count": null,
   "metadata": {
    "collapsed": true,
    "jupyter": {
     "outputs_hidden": true
    },
    "vscode": {
     "languageId": "powershell"
    }
   },
   "outputs": [],
   "source": [
    "from datetime import datetime\n",
    "import os\n",
    "date = datetime.today().strftime(\"%d.%m.%Y\")\n",
    "index = excel_data.get(\"Index\")\n",
    "purchaser_name =excel_data.get(\"purchaser_name\", \"NA\").replace(\" \", \"\")\n",
    "manufacturer_brand = api_data.get(\"manufacturer_brand\")\n",
    "model = api_data.get(\"model\")\n",
    "pdf_path = \"PDFS\" + f\"\\Export Offer-GO_00{int(1)}-RomanyFekry-Kia-Sportage-{date}.pdf\"\n",
    "\n",
    "if not os.path.isfile(pdf_path):\n",
    "    print(f\"File not found: {pdf_path}\")\n",
    "\n",
    "    # Open the PDF file with the default program\n",
    "os.startfile(pdf_path)"
   ]
  },
  {
   "cell_type": "code",
   "execution_count": null,
   "metadata": {
    "collapsed": true,
    "jupyter": {
     "outputs_hidden": true
    },
    "vscode": {
     "languageId": "powershell"
    }
   },
   "outputs": [],
   "source": []
  },
  {
   "cell_type": "code",
   "execution_count": null,
   "metadata": {
    "collapsed": true,
    "jupyter": {
     "outputs_hidden": true
    },
    "vscode": {
     "languageId": "powershell"
    }
   },
   "outputs": [],
   "source": [
    "urls = [\"https://www.autoscout24.de/angebote/land-rover-range-rover-sport-d350-first-edition-3xtv-23zoll-diesel-rot-cecdc025-7921-4c14-90a7-a64e627ba629?sort=standard&desc=0&lastSeenGuidPresent=true&cldtidx=1&position=1&search_id=mbb2mv9nca&source_otp=t40&ap_tier=t40&source=listpage_search-results&order_bucket=5\",\n",
    "        \"https://www.autoscout24.de/angebote/land-rover-range-rover-sport-neuwagen-range-sport-hybrid-0km-mwst-ausw-elektro-benzin-rot-c19656e2-63af-4b09-ab5b-d23600e742b1?sort=standard&desc=0&lastSeenGuidPresent=true&cldtidx=2&position=2&search_id=mbb2mv9nca&source_otp=t30&ap_tier=t30&source=listpage_search-results&order_bucket=4\",\n",
    "        \"https://www.autoscout24.de/angebote/land-rover-range-rover-sport-autobiography-dynamic-panorama-diesel-rot-68fc34d8-4a87-402f-9013-a8d56b30feb6?sort=standard&desc=0&lastSeenGuidPresent=true&cldtidx=3&position=3&search_id=mbb2mv9nca&source_otp=t10&ap_tier=t10&source=listpage_search-results&order_bucket=2\"]"
   ]
  },
  {
   "cell_type": "code",
   "execution_count": null,
   "metadata": {
    "collapsed": true,
    "jupyter": {
     "outputs_hidden": true
    },
    "vscode": {
     "languageId": "powershell"
    }
   },
   "outputs": [],
   "source": []
  },
  {
   "cell_type": "code",
   "execution_count": null,
   "metadata": {
    "collapsed": true,
    "jupyter": {
     "outputs_hidden": true
    },
    "vscode": {
     "languageId": "powershell"
    }
   },
   "outputs": [],
   "source": [
    "images = []\n",
    "for dict in car_data:\n",
    "    img_list = dict.get(\"car_images\")\n",
    "    for img in img_list:\n",
    "        images.append(img)\n",
    "    "
   ]
  },
  {
   "cell_type": "code",
   "execution_count": null,
   "metadata": {
    "collapsed": true,
    "jupyter": {
     "outputs_hidden": true
    },
    "vscode": {
     "languageId": "powershell"
    }
   },
   "outputs": [],
   "source": [
    "len(images)"
   ]
  },
  {
   "cell_type": "code",
   "execution_count": null,
   "metadata": {
    "collapsed": true,
    "jupyter": {
     "outputs_hidden": true
    },
    "vscode": {
     "languageId": "powershell"
    }
   },
   "outputs": [],
   "source": [
    "\n"
   ]
  },
  {
   "cell_type": "code",
   "execution_count": null,
   "metadata": {
    "collapsed": true,
    "jupyter": {
     "outputs_hidden": true
    },
    "vscode": {
     "languageId": "powershell"
    }
   },
   "outputs": [],
   "source": [
    "import requests\n",
    "import random\n",
    "from bs4 import BeautifulSoup\n",
    "from readScrappy import run_spider, get_scraped_data, SaveDataPipeline\n",
    "url = f\"https://www.autoscout24.de/lst/{manufacturer_brand}/{model}/bc_{color}?atype=C&cy=D&damaged_listing=exclude&desc=0&ocs_listing=include&powertype=kw&search_id=mbb2mv9nca&sort=standard&source=detailsearch\"\n",
    "\n",
    "try:\n",
    "    # Fetch the webpage\n",
    "    response = requests.get(url)\n",
    "    response.raise_for_status()  # Raise an exception for HTTP errors\n",
    "    data = response.text\n",
    "except requests.RequestException as e:\n",
    "    print(f\"Error fetching the webpage: {e}\")\n",
    "\n",
    "# Parse the webpage content\n",
    "soup = BeautifulSoup(data, 'html.parser')\n",
    "containers = soup.find_all(\"div\", class_=\"ListItem_wrapper__TxHWu\")\n",
    "\n",
    "# Extract car links from the containers\n",
    "car_data = []\n",
    "for container in containers[0:3]:\n",
    "    a_tag = container.find(\"div\", class_=\"ListItem_header__J6xlG ListItem_header_new_design__Rvyv_\").find(\"a\", class_=\"ListItem_title__ndA4s ListItem_title_new_design__QIU2b Link_link__Ajn7I\")\n",
    "    if a_tag:\n",
    "        link = a_tag.get('href')\n",
    "        if link:\n",
    "            full_link = \"https://www.autoscout24.de\" + link\n",
    "            run_spider(full_link)  \n",
    "            car_data.append(get_scraped_data())\n",
    "\n",
    "# Use the external spider to scrape data from each car link\n",
    "\n",
    "# Extract image URLs from the car data\n",
    "images = []\n",
    "for car in car_data:\n",
    "    img_list = car.get(\"car_images\", [])\n",
    "    images.extend(img_list)\n",
    "\n",
    "images\n"
   ]
  },
  {
   "cell_type": "code",
   "execution_count": null,
   "metadata": {
    "collapsed": true,
    "jupyter": {
     "outputs_hidden": true
    },
    "vscode": {
     "languageId": "powershell"
    }
   },
   "outputs": [],
   "source": [
    "len(images)"
   ]
  },
  {
   "cell_type": "code",
   "execution_count": null,
   "metadata": {
    "collapsed": true,
    "jupyter": {
     "outputs_hidden": true
    },
    "vscode": {
     "languageId": "powershell"
    }
   },
   "outputs": [],
   "source": []
  },
  {
   "cell_type": "code",
   "execution_count": null,
   "metadata": {
    "collapsed": true,
    "jupyter": {
     "outputs_hidden": true
    },
    "vscode": {
     "languageId": "powershell"
    }
   },
   "outputs": [],
   "source": []
  },
  {
   "cell_type": "code",
   "execution_count": null,
   "metadata": {
    "collapsed": true,
    "jupyter": {
     "outputs_hidden": true
    },
    "vscode": {
     "languageId": "powershell"
    }
   },
   "outputs": [],
   "source": []
  },
  {
   "cell_type": "code",
   "execution_count": null,
   "metadata": {
    "collapsed": true,
    "jupyter": {
     "outputs_hidden": true
    },
    "vscode": {
     "languageId": "powershell"
    }
   },
   "outputs": [],
   "source": []
  },
  {
   "cell_type": "code",
   "execution_count": null,
   "metadata": {
    "collapsed": true,
    "jupyter": {
     "outputs_hidden": true
    },
    "vscode": {
     "languageId": "powershell"
    }
   },
   "outputs": [],
   "source": []
  },
  {
   "cell_type": "code",
   "execution_count": null,
   "metadata": {
    "collapsed": true,
    "jupyter": {
     "outputs_hidden": true
    },
    "vscode": {
     "languageId": "powershell"
    }
   },
   "outputs": [],
   "source": []
  },
  {
   "cell_type": "code",
   "execution_count": null,
   "metadata": {
    "collapsed": true,
    "jupyter": {
     "outputs_hidden": true
    },
    "vscode": {
     "languageId": "powershell"
    }
   },
   "outputs": [],
   "source": []
  },
  {
   "cell_type": "code",
   "execution_count": null,
   "metadata": {
    "collapsed": true,
    "jupyter": {
     "outputs_hidden": true
    },
    "vscode": {
     "languageId": "powershell"
    }
   },
   "outputs": [],
   "source": []
  },
  {
   "cell_type": "code",
   "execution_count": null,
   "metadata": {
    "collapsed": true,
    "jupyter": {
     "outputs_hidden": true
    },
    "vscode": {
     "languageId": "powershell"
    }
   },
   "outputs": [],
   "source": [
    "df = pd.read_excel(\"Manual_Data.xlsx\")\n"
   ]
  },
  {
   "cell_type": "code",
   "execution_count": null,
   "metadata": {
    "collapsed": true,
    "jupyter": {
     "outputs_hidden": true
    },
    "vscode": {
     "languageId": "powershell"
    }
   },
   "outputs": [],
   "source": [
    "url = \"https://suchen.mobile.de/fahrzeuge/details.html?id=391868749&dam=false&isSearchRequest=true&ms=13200%3B25%3B%3B&ref=srp&refId=4cc9a8d0-b77f-e2d2-7d1c-8d0aa3cb4c43&s=Car&sb=rel&searchId=4cc9a8d0-b77f-e2d2-7d1c-8d0aa3cb4c43&vc=Car\"\n",
    "from scraper.suchen_mobile_de import SuchenMobileDe\n",
    "mobile_de_scraper = SuchenMobileDe(url)\n",
    "api_data = mobile_de_scraper.scrape_data()"
   ]
  },
  {
   "cell_type": "code",
   "execution_count": null,
   "metadata": {
    "collapsed": true,
    "jupyter": {
     "outputs_hidden": true
    },
    "vscode": {
     "languageId": "powershell"
    }
   },
   "outputs": [],
   "source": [
    "api_data"
   ]
  },
  {
   "cell_type": "code",
   "execution_count": null,
   "metadata": {
    "collapsed": true,
    "jupyter": {
     "outputs_hidden": true
    },
    "vscode": {
     "languageId": "powershell"
    }
   },
   "outputs": [],
   "source": [
    "from googletrans import Translator\n",
    "import pandas as pd"
   ]
  },
  {
   "cell_type": "code",
   "execution_count": null,
   "metadata": {
    "collapsed": true,
    "jupyter": {
     "outputs_hidden": true
    },
    "vscode": {
     "languageId": "powershell"
    }
   },
   "outputs": [],
   "source": [
    "df = pd.read_excel(\"Data/Manual_Data.xlsx\")\n",
    "car_specifications ={k: v for k, v in zip(df[\"car_specifications_key\"][0:8].values.tolist(), df[\"car_specifications_value\"][0:8].values.tolist())}\n",
    "api_data = {\"car_title\":car_specifications.get(\"Manufacturer Brand\") + \" \"+ car_specifications.get(\"Model\"),\n",
    "                \"manufacturer_brand\": car_specifications.get(\"Manufacturer Brand\"),\n",
    "                \"model\":car_specifications.get(\"Model\"),\n",
    "                \"EngineSize\":df[\"EngineSize\"][0],\n",
    "                \"car_features\":df[\"car_features\"].values.tolist(),\n",
    "                \"car_price\":df[\"car_price\"][0],\n",
    "                \"mileage\":car_specifications.get(\"Mileage\"),\n",
    "                \"fuel\" : car_specifications.get(\"Fuel\"),\n",
    "                \"transmission\" : car_specifications.get(\"Transmission\"),\n",
    "                \"power\" : car_specifications.get(\"Power\"),\n",
    "                \"color\":car_specifications.get(\"Color\"),\n",
    "                \"firstregistration\" : car_specifications.get(\"First Registration\")\n",
    "                }\n",
    "    \n"
   ]
  },
  {
   "cell_type": "code",
   "execution_count": null,
   "metadata": {
    "collapsed": true,
    "jupyter": {
     "outputs_hidden": true
    },
    "vscode": {
     "languageId": "powershell"
    }
   },
   "outputs": [],
   "source": [
    "def translate(api_data,selected_language ):\n",
    "    if selected_language == \"English\":\n",
    "        translator = Translator()\n",
    "\n",
    "        manufacturer_brand = api_data.get(\"manufacturer_brand\", \"NA\")\n",
    "\n",
    "        firstregistration = translator.translate(\n",
    "            api_data.get(\"firstregistration\", \" \"), src=\"de\", dest=\"en\"\n",
    "        ).text\n",
    "        fuel = translator.translate(\n",
    "            api_data.get(\"fuel\", \"NA\"), src=\"de\", dest=\"en\"\n",
    "        ).text\n",
    "        transmission = translator.translate(\n",
    "            api_data.get(\"transmission\", \"NA\"), src=\"de\", dest=\"en\"\n",
    "        ).text\n",
    "\n",
    "        model = api_data.get(\"model\", \"NA\")\n",
    "\n",
    "        mileage = translator.translate(\n",
    "            api_data.get(\"mileage\", \"0 km\"), src=\"de\", dest=\"en\"\n",
    "        ).text\n",
    "        color = translator.translate(\n",
    "            api_data.get(\"color\", \"NA\"), src=\"de\", dest=\"en\"\n",
    "        ).text\n",
    "        power = translator.translate(\n",
    "            api_data.get(\"power\", \"NA\"), src=\"de\", dest=\"en\"\n",
    "        ).text\n",
    "\n",
    "    else:\n",
    "        manufacturer_brand = api_data.get(\"manufacturer_brand\", \"NA\")\n",
    "        firstregistration = api_data.get(\"firstregistration\", \"NA\")\n",
    "        fuel = api_data.get(\"fuel\", \"NA\")\n",
    "        transmission = api_data.get(\"transmission\", \"NA\")\n",
    "\n",
    "        model = api_data.get(\"model\", \"NA\")\n",
    "        mileage = api_data.get(\"mileage\", \"NA\")\n",
    "        color = api_data.get(\"color\", \"NA\")\n",
    "        power = api_data.get(\"power\", \"NA\")\n",
    "\n",
    "            ####################################################################################################################\n",
    "\n",
    "            # Car Specs\n",
    "    car_specs = api_data[\"car_features\"]\n",
    "\n",
    "    # Translate each feature from German to English\n",
    "    if selected_language == \"English\":\n",
    "        translated_car_specs = []\n",
    "        for feature in car_specs:\n",
    "            if feature.lower() == \"abs\":\n",
    "                translated_car_specs.append(feature)\n",
    "            else:\n",
    "                translation = translator.translate(feature, src=\"de\", dest=\"en\")\n",
    "                translated_car_specs.append(translation.text)\n",
    "    else:\n",
    "        translated_car_specs = car_specs\n",
    "    translated_car_specs = [\n",
    "            item\n",
    "            for sublist in translated_car_specs\n",
    "            for item in (sublist if isinstance(sublist, list) else [sublist])\n",
    "        ]\n",
    "    return manufacturer_brand, firstregistration, fuel ,transmission,model ,mileage ,color , power,translated_car_specs"
   ]
  },
  {
   "cell_type": "code",
   "execution_count": null,
   "metadata": {
    "collapsed": true,
    "jupyter": {
     "outputs_hidden": true
    },
    "vscode": {
     "languageId": "powershell"
    }
   },
   "outputs": [],
   "source": []
  },
  {
   "cell_type": "code",
   "execution_count": null,
   "metadata": {
    "collapsed": true,
    "jupyter": {
     "outputs_hidden": true
    },
    "vscode": {
     "languageId": "powershell"
    }
   },
   "outputs": [],
   "source": [
    "manufacturer_brand, firstregistration, fuel ,transmission,model ,mileage ,color , power,translated_car_specs = translate(api_data,selected_language=\"English\")"
   ]
  },
  {
   "cell_type": "code",
   "execution_count": null,
   "metadata": {
    "collapsed": true,
    "jupyter": {
     "outputs_hidden": true
    },
    "vscode": {
     "languageId": "powershell"
    }
   },
   "outputs": [],
   "source": [
    "color"
   ]
  },
  {
   "cell_type": "code",
   "execution_count": null,
   "metadata": {
    "collapsed": true,
    "jupyter": {
     "outputs_hidden": true
    },
    "vscode": {
     "languageId": "powershell"
    }
   },
   "outputs": [],
   "source": []
  },
  {
   "cell_type": "code",
   "execution_count": null,
   "metadata": {
    "collapsed": true,
    "jupyter": {
     "outputs_hidden": true
    },
    "vscode": {
     "languageId": "powershell"
    }
   },
   "outputs": [],
   "source": [
    "import requests\n",
    "from bs4 import BeautifulSoup\n",
    "\n",
    "# Step 2: Fetch the HTML content\n",
    "file_path = \"C:/Users/hmaze/Desktop/WebApp/templates/page_1.html\"  # Replace with the URL of the webpage you want to scrape\n",
    "# Step 1: Import necessary libraries\n",
    "\n",
    "\n",
    "with open(file_path, 'r', encoding='utf-8') as file:\n",
    "    html_content = file.read()\n",
    "\n",
    "# Step 3: Parse the HTML content with Beautiful Soup\n",
    "soup = BeautifulSoup(html_content, 'html.parser')\n",
    "\n",
    "# Step 4: Find all label tags\n",
    "labels = soup.find_all('label')\n",
    "\n",
    "# Step 5: Print out all the labels\n",
    "for label in labels:\n",
    "    label = label.text.strip()\n",
    "    print(Translator().translate(label,dest='de').text)\n",
    "\n",
    "# Step 4: Find all label tags\n"
   ]
  },
  {
   "cell_type": "code",
   "execution_count": null,
   "metadata": {
    "collapsed": true,
    "jupyter": {
     "outputs_hidden": true
    },
    "vscode": {
     "languageId": "powershell"
    }
   },
   "outputs": [],
   "source": [
    "\n",
    "\n",
    "# Step 2: Fetch the HTML content\n",
    "file_path = \"C:/Users/hmaze/Desktop/WebApp/templates/page_1.html\"  # Replace with the URL of the webpage you want to scrape\n",
    "# Step 1: Import necessary libraries\n",
    "\n",
    "\n",
    "with open(file_path, 'r', encoding='utf-8') as file:\n",
    "    html_content = file.read()\n",
    "\n",
    "# Step 3: Parse the HTML content with Beautiful Soup\n",
    "soup = BeautifulSoup(html_content, 'html.parser')\n",
    "\n",
    "# Step 4: Find all label tags\n",
    "labels = soup.find_all('pre')\n",
    "\n",
    "# Step 5: Print out all the labels\n",
    "for label in labels:\n",
    "    label = label.text.strip()\n",
    "    print(Translator().translate(label,dest='de').text)\n",
    "\n",
    "# Step 4: Find all label tags\n"
   ]
  },
  {
   "cell_type": "code",
   "execution_count": null,
   "metadata": {
    "collapsed": true,
    "jupyter": {
     "outputs_hidden": true
    },
    "vscode": {
     "languageId": "powershell"
    }
   },
   "outputs": [],
   "source": [
    "import json\n",
    "\n",
    "with open(\"translations/page_1/translation.json\", 'r') as file:\n",
    "    page_1_translation = json.load(file)\n"
   ]
  },
  {
   "cell_type": "code",
   "execution_count": null,
   "metadata": {
    "collapsed": true,
    "jupyter": {
     "outputs_hidden": true
    },
    "vscode": {
     "languageId": "powershell"
    }
   },
   "outputs": [],
   "source": [
    "page_1_translation"
   ]
  },
  {
   "cell_type": "code",
   "execution_count": null,
   "metadata": {
    "collapsed": true,
    "jupyter": {
     "outputs_hidden": true
    },
    "vscode": {
     "languageId": "powershell"
    }
   },
   "outputs": [],
   "source": [
    "import pandas as pd"
   ]
  },
  {
   "cell_type": "code",
   "execution_count": null,
   "metadata": {
    "collapsed": true,
    "jupyter": {
     "outputs_hidden": true
    },
    "vscode": {
     "languageId": "powershell"
    }
   },
   "outputs": [],
   "source": [
    "df = pd.read_excel(\"Data/Manual_Data.xlsx\")"
   ]
  },
  {
   "cell_type": "code",
   "execution_count": null,
   "metadata": {
    "collapsed": true,
    "jupyter": {
     "outputs_hidden": true
    },
    "vscode": {
     "languageId": "powershell"
    }
   },
   "outputs": [],
   "source": [
    "len(df.columns)"
   ]
  },
  {
   "cell_type": "code",
   "execution_count": null,
   "metadata": {
    "collapsed": true,
    "jupyter": {
     "outputs_hidden": true
    },
    "vscode": {
     "languageId": "powershell"
    }
   },
   "outputs": [],
   "source": [
    "df.columns"
   ]
  },
  {
   "cell_type": "code",
   "execution_count": null,
   "metadata": {
    "collapsed": true,
    "jupyter": {
     "outputs_hidden": true
    },
    "vscode": {
     "languageId": "powershell"
    }
   },
   "outputs": [],
   "source": [
    "# Right part - Third image (bottom half)\n",
    "        image3_x1, image3_y1 = 1241, 1188\n",
    "        image3_x2, image3_y2 = 2385, 1653\n",
    "\n",
    "        image3_path = f\"./images/car parts/{selected_images_from_folder['Side view']}\"\n",
    "\n",
    "        image3_path = resize_and_format_image(image3_path, 1241, 1188, 2385, 1653)\n",
    "\n",
    "        self.c.drawImage(\n",
    "            image3_path,\n",
    "            image3_x1,\n",
    "            self.page_height - image3_y2,\n",
    "            width=image3_x2 - image3_x1,\n",
    "            height=image3_y2 - image3_y1,\n",
    "        )\n",
    "        "
   ]
  },
  {
   "cell_type": "code",
   "execution_count": null,
   "metadata": {
    "collapsed": true,
    "jupyter": {
     "outputs_hidden": true
    },
    "vscode": {
     "languageId": "powershell"
    }
   },
   "outputs": [],
   "source": [
    "def count_files_in_folder():\n",
    "    \"\"\"\n",
    "    Count the number of files in a folder.\n",
    "\n",
    "    Parameters:\n",
    "    folder_path (str): The path to the folder.\n",
    "\n",
    "    Returns:\n",
    "    int: The number of files in the folder.\n",
    "    \"\"\"\n",
    "    folders = [\"Full front view\",\"Back view\",\"Interior\"]\n",
    "    for folder in folders:\n",
    "        folder_path = f\"images/car parts/{folder}\"\n",
    "        # List all files in the folder\n",
    "        files = os.listdir(folder_path)\n",
    "        # Count the number of files\n",
    "        num_files = []\n",
    "        num_files.append(len(files))\n",
    "    return sum(num_files)\n"
   ]
  },
  {
   "cell_type": "code",
   "execution_count": null,
   "metadata": {
    "collapsed": true,
    "jupyter": {
     "outputs_hidden": true
    },
    "vscode": {
     "languageId": "powershell"
    }
   },
   "outputs": [],
   "source": [
    "import os\n",
    "count_files_in_folder()"
   ]
  },
  {
   "cell_type": "code",
   "execution_count": null,
   "metadata": {
    "collapsed": true,
    "jupyter": {
     "outputs_hidden": true
    },
    "vscode": {
     "languageId": "powershell"
    }
   },
   "outputs": [],
   "source": [
    "import mysql.connector\n",
    "import base64\n",
    "\n",
    "# Define the connection details\n",
    "HOST = \"localhost\"\n",
    "USERNAME = \"root\"\n",
    "PASSWORD = \"\"\n",
    "DATABASE = \"pdf-generator\"\n",
    "\n",
    "# Establish a connection to your MySQL database\n",
    "db_connection = mysql.connector.connect(\n",
    "    host=HOST,\n",
    "    user=USERNAME,\n",
    "    password=PASSWORD,\n",
    "    database=DATABASE\n",
    ")\n",
    "\n",
    "# Create a cursor object to execute SQL queries\n",
    "cursor = db_connection.cursor()\n",
    "\n",
    "# Execute the SELECT query to fetch the PDF data\n",
    "cursor.execute(\"SELECT PDF FROM Quotations WHERE Quot_ID = 8\")  # Specify your condition here\n",
    "\n",
    "# Fetch the result\n",
    "result = cursor.fetchone()\n",
    "\n",
    "if result:\n",
    "    # Extract the PDF data\n",
    "    pdf_data = result[0]\n",
    "    \n",
    "    # Decode the base64 encoded PDF data\n",
    "    decoded_pdf = base64.b64decode(pdf_data)\n",
    "    \n",
    "    # Write the PDF data to a file\n",
    "    with open('retrieved_pdf.pdf', 'wb') as file:\n",
    "        file.write(decoded_pdf)\n",
    "    print(\"PDF retrieved successfully.\")\n",
    "else:\n",
    "    print(\"No PDF data found.\")\n",
    "\n",
    "# Close cursor and database connection\n",
    "cursor.close()\n",
    "db_connection.close()\n"
   ]
  },
  {
   "cell_type": "code",
   "execution_count": null,
   "metadata": {
    "collapsed": true,
    "jupyter": {
     "outputs_hidden": true
    },
    "vscode": {
     "languageId": "powershell"
    }
   },
   "outputs": [],
   "source": [
    "import os\n",
    "import mysql.connector\n",
    "import pickle\n",
    "\n",
    "# Define the connection details\n",
    "URL = \"jdbc:mysql://localhost:3306/pdf-generator\"\n",
    "USERNAME = \"root\"\n",
    "PASSWORD = \"\"\n",
    "\n",
    "# Establish a connection to your MySQL database\n",
    "db_connection = mysql.connector.connect(\n",
    "    host=\"localhost\",\n",
    "    user=USERNAME,\n",
    "    password=PASSWORD,\n",
    "    database=\"pdf-generator\"\n",
    ")\n",
    "cursor = db_connection.cursor()\n",
    "\n",
    "# Folder containing the car images\n",
    "car_images_folder = 'images'\n",
    "\n",
    "# List of image files\n",
    "image_files = os.listdir(car_images_folder)\n",
    "\n",
    "images_data = []\n",
    "\n",
    "# List of image files, excluding subdirectories\n",
    "for item in os.listdir(car_images_folder):\n",
    "    image_path = os.path.join(car_images_folder, item)\n",
    "    if os.path.isfile(image_path):  # Ensure the item is a file\n",
    "        # Read the image file\n",
    "        with open(image_path, 'rb') as file:\n",
    "            binary_data = file.read()\n",
    "            images_data.append(binary_data)\n",
    "\n",
    "# Serialize the list of images into a single binary object\n",
    "serialized_images = pickle.dumps(images_data)\n",
    "\n",
    "# Insert the serialized images data into the database\n",
    "cursor.execute(\n",
    "    \"\"\"\n",
    "    INSERT INTO Car_Details (Car_Title, Manufacturer_Brand, Model, EngineSize, Car_Features, Car_Images, Car_Price, Mileage, Fuel, Transmission, Power, Color, First_Registration)\n",
    "    VALUES (%s, %s, %s, %s, %s, %s, %s, %s, %s, %s, %s, %s, %s)\n",
    "    \"\"\", \n",
    "    (\"Sample Title\", \"Sample Brand\", \"Sample Model\", \"2.0L\", \"Feature1, Feature2\", serialized_images, 20000.00, \"10000 miles\", \"Petrol\", \"Automatic\", \"150 HP\", \"Red\", 2020)\n",
    ")\n",
    "\n",
    "# Commit the transaction\n",
    "db_connection.commit()\n",
    "\n",
    "# Close the database connection\n",
    "cursor.close()\n",
    "db_connection.close()\n"
   ]
  },
  {
   "cell_type": "code",
   "execution_count": 5,
   "metadata": {
    "ExecuteTime": {
     "end_time": "2024-07-02T18:21:59.550376Z",
     "start_time": "2024-07-02T18:21:59.509226Z"
    },
    "collapsed": true,
    "jupyter": {
     "outputs_hidden": true
    },
    "vscode": {
     "languageId": "powershell"
    }
   },
   "outputs": [
    {
     "name": "stdout",
     "output_type": "stream",
     "text": [
      "Saved path_to_save_images\\image_1.jpg\n",
      "Saved path_to_save_images\\image_2.jpg\n",
      "Saved path_to_save_images\\image_3.jpg\n",
      "Saved path_to_save_images\\image_4.jpg\n",
      "Saved path_to_save_images\\image_5.jpg\n",
      "Saved path_to_save_images\\image_6.jpg\n",
      "Saved path_to_save_images\\image_7.jpg\n",
      "Saved path_to_save_images\\image_8.jpg\n",
      "Saved path_to_save_images\\image_9.jpg\n",
      "Saved path_to_save_images\\image_10.jpg\n",
      "Saved path_to_save_images\\image_11.jpg\n",
      "Saved path_to_save_images\\image_12.jpg\n",
      "Saved path_to_save_images\\image_13.jpg\n",
      "Saved path_to_save_images\\image_14.jpg\n",
      "Saved path_to_save_images\\image_15.jpg\n",
      "Saved path_to_save_images\\image_16.jpg\n",
      "Saved path_to_save_images\\image_17.jpg\n",
      "Saved path_to_save_images\\image_18.jpg\n",
      "Saved path_to_save_images\\image_19.jpg\n",
      "Saved path_to_save_images\\image_20.jpg\n",
      "Saved path_to_save_images\\image_21.jpg\n",
      "Saved path_to_save_images\\image_22.jpg\n",
      "Saved path_to_save_images\\image_23.jpg\n",
      "Saved path_to_save_images\\image_24.jpg\n",
      "Saved path_to_save_images\\image_25.jpg\n",
      "Saved path_to_save_images\\image_26.jpg\n",
      "Saved path_to_save_images\\image_27.jpg\n",
      "Saved path_to_save_images\\image_28.jpg\n",
      "Saved path_to_save_images\\image_29.jpg\n",
      "Saved path_to_save_images\\image_30.jpg\n",
      "Saved path_to_save_images\\image_31.jpg\n",
      "Saved path_to_save_images\\image_32.jpg\n",
      "Saved path_to_save_images\\image_33.jpg\n",
      "Saved path_to_save_images\\image_34.jpg\n",
      "Saved path_to_save_images\\image_35.jpg\n"
     ]
    }
   ],
   "source": [
    "import os\n",
    "import mysql.connector\n",
    "import pickle\n",
    "\n",
    "\n",
    "db_connection = mysql.connector.connect(\n",
    "    host=\"localhost\",\n",
    "    user=USERNAME,\n",
    "    password=PASSWORD,\n",
    "    database=\"g&o\"\n",
    ")\n",
    "cursor = db_connection.cursor()\n",
    "\n",
    "# Select the row with the serialized images (customize the query to fit your needs)\n",
    "cursor.execute(\"SELECT Car_Images FROM Car_Details WHERE Car_Details_ID = 34\")\n",
    "result = cursor.fetchone()\n",
    "\n",
    "# Check if we have a result\n",
    "if result:\n",
    "    # Deserialize the binary object back into the list of images\n",
    "    serialized_images = result[0]\n",
    "    images_data = pickle.loads(serialized_images)\n",
    "\n",
    "    # Directory to save the retrieved images\n",
    "    output_directory = 'path_to_save_images'\n",
    "    os.makedirs(output_directory, exist_ok=True)\n",
    "\n",
    "    # Save each image to the specified directory\n",
    "    for i, image_data in enumerate(images_data):\n",
    "        image_path = os.path.join(output_directory, f'image_{i+1}.jpg')\n",
    "        with open(image_path, 'wb') as file:\n",
    "            file.write(image_data)\n",
    "        print(f'Saved {image_path}')\n",
    "else:\n",
    "    print('No images found.')\n",
    "\n",
    "# Close the database connection\n",
    "cursor.close()\n",
    "db_connection.close()"
   ]
  },
  {
   "cell_type": "code",
   "execution_count": null,
   "metadata": {
    "collapsed": true,
    "jupyter": {
     "outputs_hidden": true
    },
    "vscode": {
     "languageId": "powershell"
    }
   },
   "outputs": [],
   "source": [
    "import os\n",
    "import shutil\n",
    "\n",
    "def move_files(source_dir = \"images\",qoutation_num):\n",
    "    \"\"\"\n",
    "    Moves all files from the source directory to the destination directory.\n",
    "\n",
    "    Args:\n",
    "        source_dir (str): Path to the source directory.\n",
    "        destination_dir (str): Path to the destination directory.\n",
    "    \"\"\"\n",
    "    destination_dir = f'Saved_images/{qoutation_num}'\n",
    "    # Create destination directory if it doesn't exist\n",
    "    if not os.path.exists(destination_dir):\n",
    "        os.makedirs(destination_dir)\n",
    "    \n",
    "    # List all files in the source directory\n",
    "    files = os.listdir(source_dir)\n",
    "    \n",
    "    # Move each file to the destination directory\n",
    "    for file_name in files:\n",
    "        # Construct full file path\n",
    "        source_file = os.path.join(source_dir, file_name)\n",
    "        destination_file = os.path.join(destination_dir, file_name)\n",
    "        \n",
    "        # Move file\n",
    "        shutil.move(source_file, destination_file)\n",
    "        print(f'Moved: {source_file} to {destination_file}')\n",
    "\n",
    "# Example usage\n",
    "source_dir =\n",
    "destination_dir = \n",
    "move_files(source_dir, destination_dir)\n"
   ]
  },
  {
   "cell_type": "code",
   "execution_count": null,
   "metadata": {
    "collapsed": true,
    "jupyter": {
     "outputs_hidden": true
    },
    "vscode": {
     "languageId": "powershell"
    }
   },
   "outputs": [],
   "source": [
    "import mysql.connector\n",
    "import base64\n",
    "import os\n",
    "import pickle\n",
    "\n",
    "def insert(api_data,input_data,cost,custom):\n",
    "    # Define the connection details\n",
    "    URL = \"jdbc:mysql://localhost:3306/pdf-generator\"\n",
    "    USERNAME = \"root\"\n",
    "    PASSWORD = \"\"\n",
    "\n",
    "    # Establish a connection to your MySQL database\n",
    "    db_connection = mysql.connector.connect(\n",
    "        host=\"localhost\",\n",
    "        user=USERNAME,\n",
    "        password=PASSWORD,\n",
    "        database=\"pdf-generator\"\n",
    "    )\n",
    "\n",
    "    emp_name = input_data.get(\"seller_name\")\n",
    "    emp_phone = input_data.get(\"seller_phone\")\n",
    "\n",
    "    cust_name = input_data.get(\"purchaser_name\")\n",
    "    cust_phone = input_data.get(\"purchaser_phone\")\n",
    "    cust_email = input_data.get(\"purchaser_email\")\n",
    "    cust_gender = input_data.get(\"Gender\")\n",
    "\n",
    "    car_title = input_data.get(\"car_title\")\n",
    "    manufacturer_brand = input_data.get(\"manufacturer_brand\")\n",
    "    model = input_data.get(\"model\")\n",
    "    EngineSize = input_data.get(\"EngineSize\")\n",
    "    car_features = input_data.get(\"car_features\")\n",
    "    car_price = input_data.get(\"car_price\")\n",
    "    mileage = input_data.get(\"mileage\")\n",
    "    fuel = input_data.get(\"fuel\")\n",
    "    transmission = input_data.get(\"transmission\")\n",
    "    power = input_data.get(\"power\")\n",
    "    color = input_data.get(\"color\")\n",
    "    firstregistration = input_data.get(\"firstregistration\")\n",
    "    \n",
    "    # Folder containing the car images\n",
    "    car_images_folder = f\"Saved_images/{input_data.get(\"quotation_num\")}\"\n",
    "\n",
    "    # List of image files\n",
    "    image_files = os.listdir(car_images_folder)\n",
    "\n",
    "    # List to hold all binary image data\n",
    "    images_data = []\n",
    "    for image_file in image_files:\n",
    "        image_path = os.path.join(car_images_folder, image_file)\n",
    "\n",
    "        # Read the image file\n",
    "        with open(image_path, 'rb') as file:\n",
    "            binary_data = file.read()\n",
    "            images_data.append(binary_data)\n",
    "\n",
    "    # Serialize the list of images into a single binary object\n",
    "    car_images = pickle.dumps(images_data)\n",
    "\n",
    "\n",
    "\n",
    "    \n",
    "    employee_data = (emp_name, emp_phone)\n",
    "    customer_data = (cust_name, cust_phone, cust_email, cust_gender)\n",
    "    car_data = (car_title, manufacturer_brand,model, EngineSize, car_features, car_images, car_price, mileage, fuel, transmission, power, color, firstregistration)\n",
    "\n",
    "\n",
    "\n",
    "    # Insert data into Employees table\n",
    "    cursor.execute(\"INSERT INTO Employees (Name, Phone) VALUES (%s, %s)\", employee_data)\n",
    "    emp_id = cursor.lastrowid  # Get the last inserted employee ID\n",
    "\n",
    "    # Insert data into Customers table\n",
    "    cursor.execute(\"INSERT INTO Customers (Name, Phone, Email, Gender) VALUES (%s, %s, %s, %s)\", customer_data)\n",
    "    cust_id = cursor.lastrowid  # Get the last inserted customer ID\n",
    "\n",
    "    # Insert data into Car_Details table\n",
    "    cursor.execute(\"INSERT INTO Car_Details  (car_title, manufacturer_brand,model, EngineSize, car_features, car_images, car_price, mileage, fuel, transmission, power, color, firstregistration) VALUES (%s, %s, %s, %s, %s, %s,%s, %s, %s, %s, %s, %s, %s)\", car_data)\n",
    "    car_id = cursor.lastrowid  # Get the last inserted car ID\n",
    "\n",
    "    "
   ]
  },
  {
   "cell_type": "code",
   "execution_count": null,
   "metadata": {
    "collapsed": true,
    "jupyter": {
     "outputs_hidden": true
    },
    "vscode": {
     "languageId": "powershell"
    }
   },
   "outputs": [],
   "source": []
  },
  {
   "cell_type": "code",
   "execution_count": null,
   "metadata": {
    "collapsed": true,
    "jupyter": {
     "outputs_hidden": true
    },
    "vscode": {
     "languageId": "powershell"
    }
   },
   "outputs": [],
   "source": [
    "from reportlab.lib.pagesizes import letter\n",
    "from reportlab.pdfgen import canvas\n",
    "from PIL import Image\n",
    "import os\n",
    "\n",
    "def create_pdf_from_images(quotation_num):\n",
    "    folder_path = f\"Saved_images/{quotation_num}\"\n",
    "    output_pdf = \"Images.pdf\"\n",
    "    # Create a canvas object with letter size (8.5x11 inches)\n",
    "    c = canvas.Canvas(output_pdf, pagesize=letter)\n",
    "\n",
    "    # Get a list of image files in the folder\n",
    "    image_files = [f for f in os.listdir(folder_path) if f.endswith(('.jpg', '.png', '.jpeg'))]\n",
    "\n",
    "    # Loop through each image file\n",
    "    for image_file in image_files:\n",
    "        # Calculate the image size to fit within the page\n",
    "        image_path = os.path.join(folder_path, image_file)\n",
    "        img = Image.open(image_path)\n",
    "        width, height = img.size\n",
    "        max_width = 500  # Adjust this value as needed\n",
    "        max_height = 700  # Adjust this value as needed\n",
    "        if width > max_width or height > max_height:\n",
    "            ratio = min(max_width / width, max_height / height)\n",
    "            width = int(width * ratio)\n",
    "            height = int(height * ratio)\n",
    "\n",
    "        # Calculate the position to center the image horizontally\n",
    "        x = (letter[0] - width) / 2\n",
    "        y = letter[1] - height - 50  # Adjust this value to control the vertical position\n",
    "\n",
    "        # Draw the image on the canvas\n",
    "        c.drawImage(image_path, x, y, width, height)\n",
    "\n",
    "        # Add a new page for the next image\n",
    "        c.showPage()\n",
    "\n",
    "    # Save the PDF\n",
    "    c.save()\n",
    "    if os.name == 'nt':  # Windows\n",
    "        os.startfile(output_pdf)\n",
    "\n",
    "# Example usage\n",
    "\n",
    "create_pdf_from_images(20122023865)\n",
    "\n"
   ]
  },
  {
   "cell_type": "code",
   "execution_count": null,
   "metadata": {
    "collapsed": true,
    "jupyter": {
     "outputs_hidden": true
    },
    "vscode": {
     "languageId": "powershell"
    }
   },
   "outputs": [],
   "source": []
  },
  {
   "cell_type": "code",
   "execution_count": 8,
   "metadata": {
    "ExecuteTime": {
     "end_time": "2024-07-02T18:51:41.678612Z",
     "start_time": "2024-07-02T18:51:41.557620Z"
    },
    "collapsed": true,
    "jupyter": {
     "outputs_hidden": true
    },
    "vscode": {
     "languageId": "powershell"
    }
   },
   "outputs": [
    {
     "name": "stdout",
     "output_type": "stream",
     "text": [
      "PDF downloaded and saved to path_to_save_downloaded_pdfs\\2147483647_export_offer.pdf\n"
     ]
    },
    {
     "ename": "InternalError",
     "evalue": "Unread result found",
     "output_type": "error",
     "traceback": [
      "\u001B[1;31m---------------------------------------------------------------------------\u001B[0m",
      "\u001B[1;31mInternalError\u001B[0m                             Traceback (most recent call last)",
      "Cell \u001B[1;32mIn[8], line 44\u001B[0m\n\u001B[0;32m     41\u001B[0m     \u001B[38;5;28mprint\u001B[39m(\u001B[38;5;124m'\u001B[39m\u001B[38;5;124mNo PDF found for the specified quotation number.\u001B[39m\u001B[38;5;124m'\u001B[39m)\n\u001B[0;32m     43\u001B[0m \u001B[38;5;66;03m# Close the database connection\u001B[39;00m\n\u001B[1;32m---> 44\u001B[0m \u001B[43mcursor\u001B[49m\u001B[38;5;241;43m.\u001B[39;49m\u001B[43mclose\u001B[49m\u001B[43m(\u001B[49m\u001B[43m)\u001B[49m\n\u001B[0;32m     45\u001B[0m db_connection\u001B[38;5;241m.\u001B[39mclose()\n",
      "File \u001B[1;32m~\\PycharmProjects\\pythonProject1\\.venv\\lib\\site-packages\\mysql\\connector\\cursor_cext.py:539\u001B[0m, in \u001B[0;36mCMySQLCursor.close\u001B[1;34m(self)\u001B[0m\n\u001B[0;32m    536\u001B[0m \u001B[38;5;28;01mif\u001B[39;00m \u001B[38;5;129;01mnot\u001B[39;00m \u001B[38;5;28mself\u001B[39m\u001B[38;5;241m.\u001B[39m_cnx:\n\u001B[0;32m    537\u001B[0m     \u001B[38;5;28;01mreturn\u001B[39;00m \u001B[38;5;28;01mFalse\u001B[39;00m\n\u001B[1;32m--> 539\u001B[0m \u001B[38;5;28;43mself\u001B[39;49m\u001B[38;5;241;43m.\u001B[39;49m\u001B[43m_cnx\u001B[49m\u001B[38;5;241;43m.\u001B[39;49m\u001B[43mhandle_unread_result\u001B[49m\u001B[43m(\u001B[49m\u001B[43m)\u001B[49m\n\u001B[0;32m    540\u001B[0m \u001B[38;5;28mself\u001B[39m\u001B[38;5;241m.\u001B[39m_warnings \u001B[38;5;241m=\u001B[39m \u001B[38;5;28;01mNone\u001B[39;00m\n\u001B[0;32m    541\u001B[0m \u001B[38;5;28mself\u001B[39m\u001B[38;5;241m.\u001B[39m_cnx \u001B[38;5;241m=\u001B[39m \u001B[38;5;28;01mNone\u001B[39;00m\n",
      "File \u001B[1;32m~\\PycharmProjects\\pythonProject1\\.venv\\lib\\site-packages\\mysql\\connector\\connection_cext.py:1026\u001B[0m, in \u001B[0;36mCMySQLConnection.handle_unread_result\u001B[1;34m(self, prepared)\u001B[0m\n\u001B[0;32m   1024\u001B[0m     \u001B[38;5;28mself\u001B[39m\u001B[38;5;241m.\u001B[39mconsume_results()\n\u001B[0;32m   1025\u001B[0m \u001B[38;5;28;01melif\u001B[39;00m unread_result:\n\u001B[1;32m-> 1026\u001B[0m     \u001B[38;5;28;01mraise\u001B[39;00m InternalError(\u001B[38;5;124m\"\u001B[39m\u001B[38;5;124mUnread result found\u001B[39m\u001B[38;5;124m\"\u001B[39m)\n",
      "\u001B[1;31mInternalError\u001B[0m: Unread result found"
     ]
    }
   ],
   "source": [
    "import os\n",
    "import mysql.connector\n",
    "import base64\n",
    "\n",
    "# Define the connection details\n",
    "URL = \"jdbc:mysql://localhost:3306/g&o\"\n",
    "USERNAME = \"root\"\n",
    "PASSWORD = \"\"\n",
    "\n",
    "# Establish a connection to your MySQL database\n",
    "db_connection = mysql.connector.connect(\n",
    "    host=\"localhost\",\n",
    "    user=USERNAME,\n",
    "    password=PASSWORD,\n",
    "    database=\"g&o\"\n",
    ")\n",
    "cursor = db_connection.cursor()\n",
    "\n",
    "# Select the base64-encoded PDF from the database (customize the query to fit your needs)\n",
    "cursor.execute(\"SELECT PDF FROM quotations WHERE Quot_num = %s\", (2147483647,))\n",
    "result = cursor.fetchone()\n",
    "\n",
    "# Check if we have a result\n",
    "if result:\n",
    "    encoded_pdf = result[0]\n",
    "    \n",
    "    # Decode base64 to binary\n",
    "    pdf_data = base64.b64decode(encoded_pdf)\n",
    "    \n",
    "    # Directory to save the downloaded PDF\n",
    "    output_directory = 'path_to_save_downloaded_pdfs'\n",
    "    os.makedirs(output_directory, exist_ok=True)\n",
    "    \n",
    "    # Save the PDF to the specified directory\n",
    "    pdf_file_path = os.path.join(output_directory, f'{2147483647}_export_offer.pdf')\n",
    "    with open(pdf_file_path, 'wb') as file:\n",
    "        file.write(pdf_data)\n",
    "    \n",
    "    print(f'PDF downloaded and saved to {pdf_file_path}')\n",
    "else:\n",
    "    print('No PDF found for the specified quotation number.')\n",
    "\n",
    "# Close the database connection\n",
    "cursor.close()\n",
    "db_connection.close()\n"
   ]
  },
  {
   "cell_type": "code",
   "execution_count": 20,
   "metadata": {
    "ExecuteTime": {
     "end_time": "2024-07-04T18:57:28.720382Z",
     "start_time": "2024-07-04T18:57:26.705051Z"
    },
    "collapsed": true,
    "jupyter": {
     "outputs_hidden": true
    }
   },
   "outputs": [],
   "source": [
    "import os\n",
    "from reportlab.lib.pagesizes import letter\n",
    "from reportlab.pdfgen import canvas\n",
    "from PIL import Image\n",
    "\n",
    "def create_pdf_from_images(quotation_num):\n",
    "    main_folder = f\"Saved_images/{quotation_num}/car parts\"\n",
    "    output_pdf = \"Images.pdf\"\n",
    "\n",
    "    # Create a canvas object with letter size (8.5x11 inches)\n",
    "    c = canvas.Canvas(output_pdf, pagesize=letter)\n",
    "\n",
    "    # List of subfolders to process\n",
    "    subfolders = ['Full front view', 'Back view', 'Interior', 'Side view', 'Trunk']\n",
    "\n",
    "    try:\n",
    "        first_page = True  # Flag to track first page\n",
    "        y = None  # Variable to track vertical position\n",
    "\n",
    "        # Loop through each subfolder\n",
    "        for subfolder in subfolders:\n",
    "            folder_path = os.path.join(main_folder, subfolder)\n",
    "\n",
    "            # Get a list of image files in the subfolder\n",
    "            image_files = [\n",
    "                f\n",
    "                for f in os.listdir(folder_path)\n",
    "                if f.lower().endswith((\".jpg\", \".png\", \".jpeg\"))\n",
    "            ]\n",
    "\n",
    "            # Add title for the subfolder\n",
    "            c.setFont(\"Helvetica-Bold\", 14)\n",
    "            title_text = subfolder\n",
    "            title_width = c.stringWidth(title_text, \"Helvetica-Bold\", 14)\n",
    "            title_x = (letter[0] - title_width) / 2\n",
    "            title_y = letter[1] - 50\n",
    "            c.drawString(title_x, title_y, title_text)\n",
    "\n",
    "            # Adjust y position for images\n",
    "            y = title_y - 20\n",
    "\n",
    "            # Loop through each image file\n",
    "            for image_file in image_files:\n",
    "                image_path = os.path.join(folder_path, image_file)\n",
    "                img = Image.open(image_path)\n",
    "                width, height = img.size\n",
    "                max_width = 500  # Adjust this value as needed\n",
    "                max_height = 700  # Adjust this value as needed\n",
    "\n",
    "                # Resize the image if necessary\n",
    "                if width > max_width or height > max_height:\n",
    "                    ratio = min(max_width / width, max_height / height)\n",
    "                    width = int(width * ratio)\n",
    "                    height = int(height * ratio)\n",
    "\n",
    "                # Calculate the position to center the image horizontally\n",
    "                x = (letter[0] - width) / 2\n",
    "\n",
    "                # Check if there's enough space for the image on the current page\n",
    "                if y - height < 50:\n",
    "                    c.showPage()\n",
    "                    y = letter[1] - 50  # Reset y for new page\n",
    "                    first_page = False  # Set flag to False after the first page\n",
    "\n",
    "                # Draw the image on the canvas\n",
    "                c.drawImage(image_path, x, y - height, width, height)\n",
    "\n",
    "                # Update y position for the next image\n",
    "                y -= (height + 20)  # Adjust vertical spacing\n",
    "\n",
    "            # Add a new page for the next subfolder if not the last one\n",
    "            if subfolder != subfolders[-1]:\n",
    "                c.showPage()\n",
    "\n",
    "    except FileNotFoundError:\n",
    "        print(f\"Error: Subfolder '{subfolder}' not found in '{main_folder}'.\")\n",
    "\n",
    "    # Save the PDF\n",
    "    c.save()\n",
    "\n",
    "# Example usage:\n",
    "create_pdf_from_images(5252032565)\n"
   ]
  },
  {
   "cell_type": "code",
   "execution_count": 19,
   "metadata": {
    "ExecuteTime": {
     "end_time": "2024-07-04T17:52:19.910506Z",
     "start_time": "2024-07-04T17:51:42.981754Z"
    },
    "collapsed": true,
    "jupyter": {
     "outputs_hidden": true
    }
   },
   "outputs": [
    {
     "name": "stdout",
     "output_type": "stream",
     "text": [
      "Waiting for 20 seconds for CAPTCHA to be solved manually...\n",
      "VIN: W1NKM5BB0PF030575 / W1N2546511F030575\n",
      "Order: 0227800146\n",
      "Engine: 254920V0227985\n",
      "Vehicle History: Get a car report instantly!\n",
      "Transmission: 72517120207125\n",
      ": Donate to mb.vin, to keep this service online!\n",
      "Color: Graphite gray - Metallic finish (831)\n",
      "Upholstery: Imitation leather - Black / anthracite (111)\n",
      "Mileage: Show mileage of this vehicle\n",
      "Production: 0069458\n",
      "Manufacturer: Mercedes-Benz Austria (AT)\n",
      "Delivery Date: 2023-04-04\n",
      "An error occurred: Message: no such element: Unable to locate element: {\"method\":\"tag name\",\"selector\":\"th\"}\n",
      "  (Session info: chrome=126.0.6478.127); For documentation on this error, please visit: https://www.selenium.dev/documentation/webdriver/troubleshooting/errors#no-such-element-exception\n",
      "Stacktrace:\n",
      "\tGetHandleVerifier [0x0121C1C3+27395]\n",
      "\t(No symbol) [0x011B3DC4]\n",
      "\t(No symbol) [0x010B1B7F]\n",
      "\t(No symbol) [0x010F2C65]\n",
      "\t(No symbol) [0x010F2D3B]\n",
      "\t(No symbol) [0x010E8D01]\n",
      "\t(No symbol) [0x011139E4]\n",
      "\t(No symbol) [0x010E8C15]\n",
      "\t(No symbol) [0x01113C34]\n",
      "\t(No symbol) [0x0112CB24]\n",
      "\t(No symbol) [0x01113736]\n",
      "\t(No symbol) [0x010E7541]\n",
      "\t(No symbol) [0x010E80BD]\n",
      "\tGetHandleVerifier [0x014D3A93+2876371]\n",
      "\tGetHandleVerifier [0x01527F5D+3221661]\n",
      "\tGetHandleVerifier [0x0129D634+556916]\n",
      "\tGetHandleVerifier [0x012A474C+585868]\n",
      "\t(No symbol) [0x011BCE04]\n",
      "\t(No symbol) [0x011B9818]\n",
      "\t(No symbol) [0x011B99B7]\n",
      "\t(No symbol) [0x011ABF0E]\n",
      "\tBaseThreadInitThunk [0x76207BA9+25]\n",
      "\tRtlInitializeExceptionChain [0x774AC10B+107]\n",
      "\tRtlClearBits [0x774AC08F+191]\n",
      "\n"
     ]
    }
   ],
   "source": [
    "def create_pdf(car_details, save_folder):\n",
    "    \"\"\"Create a PDF file with the car details.\"\"\"\n",
    "    vin = car_details[\"VIN\"]\n",
    "    pdf_filename = f\"vehicle_info_{sanitize_filename(vin)}.pdf\"\n",
    "    pdf_filepath = os.path.join(save_folder, pdf_filename).replace(\"\\\\\", \"/\")\n",
    "\n",
    "    # Ensure the save directory exists\n",
    "    os.makedirs(save_folder, exist_ok=True)\n",
    "\n",
    "    c = canvas.Canvas(pdf_filepath, pagesize=letter)\n",
    "    c.setFont(\"Helvetica-Bold\", 14)\n",
    "    c.drawString(100, 750, \"Vehicle Information\")\n",
    "    c.setFont(\"Helvetica\", 12)\n",
    "\n",
    "    # Write details to PDF, excluding lines with unwanted text\n",
    "    y_position = 720\n",
    "    unwanted_texts = [\"Donate to mb.vin\", \"Get a car\", \"Show mileage\"]\n",
    "    for key, value in car_details.items():\n",
    "        if not any(unwanted_text in value for unwanted_text in unwanted_texts):\n",
    "            c.drawString(100, y_position, f\"{key}: {value}\")\n",
    "            y_position -= 20\n",
    "\n",
    "    c.save()\n",
    "    print(f\"Vehicle information saved to {pdf_filepath}\")\n",
    "    return pdf_filepath\n",
    "\n",
    "\n",
    "def scrape_and_generate_pdf(vin, quotation_num):\n",
    "    \"\"\"Scrape vehicle information from mb.vin and generate a PDF.\"\"\"\n",
    "    save_folder = f\"PDFS/{quotation_num}\"\n",
    "\n",
    "    # Ensure the save folder exists\n",
    "    os.makedirs(save_folder, exist_ok=True)\n",
    "\n",
    "    # Set up the WebDriver\n",
    "    service = Service(ChromeDriverManager().install())\n",
    "    driver = webdriver.Chrome(service=service)\n",
    "    wait = WebDriverWait(driver, 20)  # Set up an explicit wait\n",
    "\n",
    "    try:\n",
    "        # Open the website\n",
    "        driver.get(\"https://mb.vin/\")\n",
    "\n",
    "        # Locate the VIN input field and enter the VIN\n",
    "        vin_input = wait.until(EC.presence_of_element_located((By.CLASS_NAME, \"form-control\")))\n",
    "        vin_input.send_keys(vin)\n",
    "\n",
    "        # Wait for 20 seconds for CAPTCHA to be solved manually\n",
    "        print(\"Waiting for 20 seconds for CAPTCHA to be solved manually...\")\n",
    "        time.sleep(20)\n",
    "\n",
    "        # Locate and click the submit button\n",
    "        submit_button = wait.until(EC.element_to_be_clickable((By.CSS_SELECTOR, \"button.btn.btn-primary.btn-lg\")))\n",
    "        submit_button.click()\n",
    "\n",
    "        # Wait for the results to load\n",
    "        table = wait.until(EC.presence_of_element_located((By.CSS_SELECTOR, \"div.table-responsive table.table-striped.table-condensed\")))\n",
    "\n",
    "        # Extract data from the table\n",
    "        rows = table.find_elements(By.TAG_NAME, \"tr\")\n",
    "        car_details = {}\n",
    "\n",
    "        for row in rows:\n",
    "            th_element = row.find_element(By.TAG_NAME, \"th\")\n",
    "            td_element = row.find_element(By.TAG_NAME, \"td\")\n",
    "            car_details[th_element.text.strip()] = td_element.text.strip()\n",
    "\n",
    "        # Print the car details\n",
    "        for key, value in car_details.items():\n",
    "            print(f\"{key}: {value}\")\n",
    "\n",
    "        # Click on the \"Options\" tab\n",
    "        options_tab = wait.until(EC.element_to_be_clickable((By.LINK_TEXT, \"Options\")))\n",
    "        options_tab.click()\n",
    "\n",
    "        # Wait for the options table to load\n",
    "        options_table = wait.until(EC.presence_of_element_located((By.CSS_SELECTOR, \"table.table.table-striped.table-condensed\")))\n",
    "\n",
    "        # Extract data from the options table\n",
    "        options_rows = options_table.find_elements(By.TAG_NAME, \"tr\")\n",
    "        options_details = {}\n",
    "\n",
    "        for row in options_rows:\n",
    "            th_element = row.find_element(By.TAG_NAME, \"th\")\n",
    "            td_element = row.find_element(By.TAG_NAME, \"td\")\n",
    "            options_details[th_element.text.strip()] = td_element.text.strip()\n",
    "\n",
    "        # Print the options details\n",
    "        for key, value in options_details.items():\n",
    "            print(f\"{key}: {value}\")\n",
    "\n",
    "        # Combine car details and options details\n",
    "        car_details.update(options_details)\n",
    "\n",
    "        # Create PDF\n",
    "        pdf_filepath = create_pdf(car_details, save_folder)\n",
    "\n",
    "        # Open the PDF file\n",
    "        os.system(f'open \"{pdf_filepath}\"')  # For macOS, use 'xdg-open' for Linux and 'start' for Windows\n",
    "\n",
    "    except Exception as e:\n",
    "        print(f\"An error occurred: {e}\")\n",
    "\n",
    "    finally:\n",
    "        # Close the driver\n",
    "        driver.quit()\n",
    "\n",
    "# Example usage\n",
    "scrape_and_generate_pdf(\"W1NKM5BB0PF030575\", \"1241651\")"
   ]
  },
  {
   "cell_type": "code",
   "execution_count": 8,
   "metadata": {
    "ExecuteTime": {
     "end_time": "2024-07-06T16:42:08.063118Z",
     "start_time": "2024-07-06T16:41:44.172508Z"
    },
    "collapsed": true,
    "jupyter": {
     "outputs_hidden": true
    }
   },
   "outputs": [
    {
     "name": "stdout",
     "output_type": "stream",
     "text": [
      "Waiting for 20 seconds for CAPTCHA to be solved manually...\n",
      "Link Text: , URL: https://mb.vin/vin/1d6203438705783907c19db9d25339f4/\n",
      "Link Text: , URL: https://mb.vin/vin/1d6203438705783907c19db9d25339f4/options/\n",
      "Link Text: , URL: https://mb.vin/vin/1d6203438705783907c19db9d25339f4/images/\n"
     ]
    }
   ],
   "source": [
    "from selenium import webdriver\n",
    "from selenium.webdriver.chrome.service import Service\n",
    "from webdriver_manager.chrome import ChromeDriverManager\n",
    "from selenium.webdriver.common.by import By\n",
    "import time\n",
    "\n",
    "def scrape_navigation_tabs(vin):\n",
    "    \"\"\"Scrape navigation tabs from mb.vin.\"\"\"\n",
    "    # Set up the WebDriver\n",
    "    service = Service(ChromeDriverManager().install())\n",
    "    driver = webdriver.Chrome(service=service)\n",
    "\n",
    "    try:\n",
    "        # Open the website\n",
    "        driver.get(\"https://mb.vin/\")\n",
    "\n",
    "        # Locate the VIN input field and enter the VIN\n",
    "        vin_input = driver.find_element(By.CLASS_NAME, \"form-control\")\n",
    "        vin_input.send_keys(vin)\n",
    "\n",
    "        # Wait for 20 seconds for CAPTCHA to be solved manually\n",
    "        print(\"Waiting for 20 seconds for CAPTCHA to be solved manually...\")\n",
    "        time.sleep(10)\n",
    "\n",
    "        # Locate and click the submit button\n",
    "        submit_button = driver.find_element(\n",
    "            By.CSS_SELECTOR, \"button.btn.btn-primary.btn-lg\"\n",
    "        )\n",
    "        submit_button.click()\n",
    "\n",
    "        # Wait for the results to load\n",
    "        driver.implicitly_wait(10)\n",
    "\n",
    "        # Find the navigation tabs container\n",
    "        nav_tabs = driver.find_element(By.ID, \"nav-tab\")\n",
    "\n",
    "        # Extract URLs and text from navigation tabs\n",
    "        nav_links = nav_tabs.find_elements(By.CLASS_NAME, \"nav-link\")\n",
    "        for link in nav_links:\n",
    "            href = link.get_attribute(\"href\")\n",
    "            text = link.text.strip()\n",
    "            print(f\"Link Text: {text}, URL: {href}\")\n",
    "\n",
    "    except Exception as e:\n",
    "        print(f\"An error occurred: {e}\")\n",
    "\n",
    "    finally:\n",
    "        # Close the driver\n",
    "        driver.quit()\n",
    "\n",
    "# Example usage:\n",
    "scrape_navigation_tabs(\"W1NKM5BB0PF030575\")\n"
   ]
  },
  {
   "cell_type": "code",
   "execution_count": 47,
   "metadata": {
    "ExecuteTime": {
     "end_time": "2024-07-06T17:38:19.090438Z",
     "start_time": "2024-07-06T17:38:17.743946Z"
    },
    "collapsed": true,
    "jupyter": {
     "outputs_hidden": true
    }
   },
   "outputs": [
    {
     "name": "stdout",
     "output_type": "stream",
     "text": [
      "VIN: W1NKM5BB0PF030575 / W1N2546511F030575\n",
      "Order: 0227800146\n",
      "Engine: 254920V0227985\n",
      "Transmission: 72517120207125\n",
      "Color: Graphite gray - Metallic finish (831)\n",
      "Upholstery: Imitation leather - Black / anthracite (111)\n",
      "Production: 0069458\n",
      "Manufacturer: Mercedes-Benz Austria (AT)\n",
      "Delivery Date: 2023-04-04\n"
     ]
    }
   ],
   "source": [
    "import requests\n",
    "from bs4 import BeautifulSoup\n",
    "\n",
    "def scrape_vehicle_info(url):\n",
    "    \"\"\"Scrape specific vehicle information from the provided URL using Beautiful Soup.\"\"\"\n",
    "    # Send a GET request to the URL\n",
    "    response = requests.get(url)\n",
    "\n",
    "    if response.status_code == 200:\n",
    "        # Parse the HTML content\n",
    "        soup = BeautifulSoup(response.content, 'html.parser')\n",
    "\n",
    "        # Find the table element\n",
    "        table = soup.find('div', class_='table-responsive').find('table')\n",
    "\n",
    "        # Initialize a dictionary to store vehicle information\n",
    "        vehicle_info = {\n",
    "            \"VIN\": None,\n",
    "            \"Order\": None,\n",
    "            \"Engine\": None,\n",
    "            \"Transmission\": None,\n",
    "            \"Color\": None,\n",
    "            \"Upholstery\": None,\n",
    "            \"Production\": None,\n",
    "            \"Manufacturer\": None,\n",
    "            \"Delivery Date\": None\n",
    "        }\n",
    "\n",
    "        # Extract data from the table\n",
    "        rows = table.find_all('tr')\n",
    "        for row in rows:\n",
    "            th = row.find('th')\n",
    "            td = row.find('td')\n",
    "            if th and td:\n",
    "                key = th.text.strip().rstrip(':')  # Remove trailing colon\n",
    "                if key in vehicle_info:\n",
    "                    vehicle_info[key] = td.text.strip()\n",
    "\n",
    "        # Print vehicle information\n",
    "        for key, value in vehicle_info.items():\n",
    "            if value:  # Check if value is not None or empty\n",
    "                print(f\"{key}: {value}\")\n",
    "\n",
    "    else:\n",
    "        print(f\"Failed to retrieve data. Status code: {response.status_code}\")\n",
    "\n",
    "# Example usage:\n",
    "url = \"https://mb.vin/vin/1d6203438705783907c19db9d25339f4/\"\n",
    "scrape_vehicle_info(url)\n"
   ]
  },
  {
   "cell_type": "code",
   "execution_count": 46,
   "metadata": {
    "ExecuteTime": {
     "end_time": "2024-07-06T17:37:35.883511Z",
     "start_time": "2024-07-06T17:37:34.719506Z"
    },
    "collapsed": true,
    "jupyter": {
     "outputs_hidden": true
    }
   },
   "outputs": [
    {
     "data": {
      "text/plain": [
       "{'01U': 'Mercedes-Benz Connect - Services for navigation',\n",
       " '02B': 'Operating instructions and service booklet-German',\n",
       " '0A1': '0A1',\n",
       " '0B4': 'Vehicle production location Bremen',\n",
       " '0S3': 'Country collector for Red certification for HU ECE',\n",
       " '0U1': 'HU country set for ECE (NTG7/NTG 20X)',\n",
       " '100A': 'Imitation leather',\n",
       " '111A': 'Imitation leather - Black / anthracite',\n",
       " '14U': 'Smartphone integration package',\n",
       " '16U': 'Apple Carplay smartphone integration',\n",
       " '17U': 'Android Auto smartphone integration',\n",
       " '19A': '19A',\n",
       " '1B3': 'Communication module ECE version',\n",
       " '1U9': 'Control code for light rear axle load stage',\n",
       " '20U': 'Keyless rental',\n",
       " '218': 'Rear view camera',\n",
       " '229L': 'Germany',\n",
       " '22U': 'Mercedes-Benz Connect MBUX Entertainment',\n",
       " '234': 'Blind Spot Monitoring',\n",
       " '235': 'Active Parking Assist',\n",
       " '241': \"Left electric adjustable driver's seat with memory\",\n",
       " '242': \"Right electrically adjustable driver's seat with memory\",\n",
       " '243': 'Active Lane Keeping Assist (camera)',\n",
       " '252': 'Dimming inside rearview mirror',\n",
       " '255B': 'Mb-Mobilo with DSB and GGD',\n",
       " '258': 'Collision warning system with FCW-Stop active brake application',\n",
       " '260': 'Model badge on trunk lid - Omission',\n",
       " '275': \"Memory Package (driver's seat, steering column and mirrors)\",\n",
       " '287': 'Through-loading feature',\n",
       " '2A2': '2A2',\n",
       " '2S0': 'Package - Multimedia/digital content',\n",
       " '2U1': 'Radiator shutter',\n",
       " '2U8': 'Alternative refrigerant',\n",
       " '2XXL': 'Federal Republic of Germany',\n",
       " '30P': 'Stowage facility package',\n",
       " '310': 'Double cup holder',\n",
       " '319': 'Wheel arch expansion in vehicle color',\n",
       " '321': 'Fingerprint scanner',\n",
       " '325': 'Center airbag',\n",
       " '32U': 'Sound personalization',\n",
       " '332B': 'Language of instrument cluster/HU - German',\n",
       " '33U': 'Services for remote access plus',\n",
       " '345': 'rain sensor',\n",
       " '351': 'Ecall emergency call system',\n",
       " '355': 'Preinstallation for retrofitting navigation system',\n",
       " '365': 'Hard drive navigation',\n",
       " '367': 'Live Traffic capability',\n",
       " '383': 'Ramses Entry communication module (4G)',\n",
       " '3A3': '3A3',\n",
       " '3S6': 'Hotend technology, Type II-A',\n",
       " '413': 'Automatic panoramic sliding sunroof',\n",
       " '421': '9-speed automatic transmission',\n",
       " '440': 'Cruise control',\n",
       " '443': 'Heated steering wheel',\n",
       " '464': 'Instrument cluster display M',\n",
       " '475': 'Tire pressure monitor (TPM)',\n",
       " '486': 'Sports suspension',\n",
       " '4S6': 'Cold end technology, type 0',\n",
       " '500': 'Electrically folding exterior mirrors',\n",
       " '502': 'Multi-year free map updates',\n",
       " '50A': '50A',\n",
       " '513': 'Road sign recognition system',\n",
       " '51B': 'Rating, country group EURO-NCAP',\n",
       " '51U': 'Headliner, black fabric',\n",
       " '521': 'Connect 20 Mid (NTG7)',\n",
       " '537': 'Digital Radio standard DAB (Digi. Audio Broadc.)',\n",
       " '580': 'Air-conditioning system',\n",
       " '587': 'Logo projection via mirror',\n",
       " '5A1': '5A1',\n",
       " '608': 'Automatic high beam control (IHC)',\n",
       " '632': 'Headlamps, LED, static, right-side traffic',\n",
       " '6A2': '6A2',\n",
       " '6P5': 'Sales control code for code 475 request',\n",
       " '70B': 'Safety vest - driver',\n",
       " '723': 'Load compartment cover',\n",
       " '725': 'Roof rails in chrome look',\n",
       " '75B': 'USB package Entry',\n",
       " '772': 'AMG styling - Front spoiler, side skirts',\n",
       " '776': 'Wider wheel arch for AMG wheels',\n",
       " '794': 'Diamond FIM plastic center console (2C10)',\n",
       " '79B': 'Pre-installation of Digital Radio standard DAB',\n",
       " '7B4': 'WIPPS countries WEU+COC',\n",
       " '7U3': 'Seat model variant 3',\n",
       " '803': 'YoM X2/1',\n",
       " '810': 'Premium sound system',\n",
       " '831U': 'Graphite gray - Metallic finish',\n",
       " '840': 'Glas dunkel getÃ¶nt',\n",
       " '846': 'Running board in aluminum look with rubber naps',\n",
       " '868': 'Central display size L',\n",
       " '873': 'Seat heaters for driver and front passenger',\n",
       " '875': 'Heated windscreen washer system',\n",
       " '876': 'Interior lighting package',\n",
       " '890': 'Automatic rear-end door',\n",
       " '891': 'Premium ambiance illumination',\n",
       " '893': 'KEYLESS-Start',\n",
       " '894': 'Premium Plus ambiance illumination',\n",
       " '897': 'Front wireless telephone charging',\n",
       " '8B2': '48 V PTC heater booster',\n",
       " '8U8': 'i-Size marking (Isofix successor)',\n",
       " '8X3': 'YoM 22/1',\n",
       " '900': 'Exterior Chrome Package',\n",
       " '901': 'Interior Chrome Package',\n",
       " '927': 'Exhaust treatment, Euro 6 technology',\n",
       " '942': 'Load compartment/trunk package',\n",
       " '94B': 'Integrated starter alternator Gen. 2',\n",
       " '969': 'Euro 6 technology COC document - with motor vehicle registration certificate, part 2',\n",
       " '986': 'Different VIN with model year',\n",
       " '998': 'Control code for conversion to WLTP with RDE',\n",
       " '9V8': 'Speed/load index 105W XL + 108W XL',\n",
       " 'A162': 'A162',\n",
       " 'A170': 'A170',\n",
       " 'A176': 'A176',\n",
       " 'AA5': 'Standard power variant',\n",
       " 'B01': '48V technology',\n",
       " 'B10': 'Fuel tank packages for Euro-6D standard',\n",
       " 'B51': 'TIREFIT',\n",
       " 'B59': 'Drive program selection switch (Agility Select)',\n",
       " 'B63': 'Engine sound via speakers',\n",
       " 'F254': 'Model series 254',\n",
       " 'FX': 'Special version',\n",
       " 'G071': 'G071',\n",
       " 'GA': 'Automatic transmission',\n",
       " 'GI': 'GI',\n",
       " 'H50': 'Trim elements - Plastic FIM diamond (2C10)',\n",
       " 'HA': 'Rear axle',\n",
       " 'JUG': 'Plant control code',\n",
       " 'JVB': 'Plant control code',\n",
       " 'JVO': 'Plant control code',\n",
       " 'K13': 'Control code for 25,000 km service interval',\n",
       " 'K27': 'Software control for unpowered in position \"D\"',\n",
       " 'K31': 'Noise regulations as per ECE R51-03',\n",
       " 'K37': 'Deactivation of locking feedback via horn',\n",
       " 'L': 'Left-hand drive',\n",
       " 'L5C': 'Supersport steering wheel - leather deep-embossed',\n",
       " 'LS1': 'Body-in-white load stage 1/1.5',\n",
       " 'M005': 'Vehicles with 4MATIC/all-wheel drive',\n",
       " 'M013': 'Derated engine',\n",
       " 'M20': 'Displacement 2.0 liter',\n",
       " 'M254': 'Inline 4-cylinder spark ignition engine M254',\n",
       " 'P29': 'Interior AMG Line / interior AMG sport package',\n",
       " 'P31': 'Exterior AMG Line / exterior AMG sport package',\n",
       " 'P44': 'Parking Package',\n",
       " 'P49': 'Mirror package',\n",
       " 'PAV': 'Winter package',\n",
       " 'PBG': 'MBUX Navigation Premium',\n",
       " 'PDB': 'Equipment Package - Mid',\n",
       " 'PSJ': 'Control code for Sales',\n",
       " 'PZB': 'Control code for Sales',\n",
       " 'R01': 'Summer tyres',\n",
       " 'R8N': 'Wheel size 20\" mixed tires variant 1',\n",
       " 'RVO': 'AMG multi-spoke wheels 20\" \"mixed tires\"',\n",
       " 'U01': 'Rear seat belt status indicator',\n",
       " 'U10': 'Front passenger seat with weight sensor',\n",
       " 'U22': 'Lumbar support adjustment',\n",
       " 'U25': 'Illuminated door sill',\n",
       " 'U26': 'Floor mats - AMG',\n",
       " 'U29': 'Sport brake system',\n",
       " 'U34': 'Leather-clad instrument panel and beltline (imit. nappa)',\n",
       " 'U35': '12 V socket in load compartment',\n",
       " 'U40': \"Cargo net behind driver's seats\",\n",
       " 'VL': 'Left front axle half',\n",
       " 'VR': 'Right front axle half'}"
      ]
     },
     "execution_count": 46,
     "metadata": {},
     "output_type": "execute_result"
    }
   ],
   "source": [
    "import requests\n",
    "from bs4 import BeautifulSoup\n",
    "\n",
    "def scrape_options_table(url):\n",
    "    \"\"\"Scrape options table from the provided URL using Beautiful Soup.\"\"\"\n",
    "    # Send a GET request to the URL\n",
    "    response = requests.get(url)\n",
    "\n",
    "    if response.status_code == 200:\n",
    "        # Parse the HTML content\n",
    "        soup = BeautifulSoup(response.content, 'html.parser')\n",
    "\n",
    "        # Find the table element\n",
    "        table = soup.find('div', class_='table-responsive').find('table')\n",
    "\n",
    "        # Initialize a dictionary to store options\n",
    "        options = {}\n",
    "\n",
    "        # Extract data from the table\n",
    "        rows = table.find_all('tr')\n",
    "        for row in rows:\n",
    "            # Find td elements\n",
    "            tds = row.find_all('td')\n",
    "            if len(tds) == 2:  # Ensure we have two columns (image and description)\n",
    "                description = tds[1].get_text(separator='\\n').strip() if tds[1] else None\n",
    "                if description:\n",
    "                    # Extract option code from the description\n",
    "                    option_code = tds[1].find('b').get_text().strip() if tds[1].find('b') else None\n",
    "                    if option_code:\n",
    "                        options[option_code] = description\n",
    "\n",
    "        options = {key: value.split('\\n')[1] if '\\n' in value else value for key, value in options.items()}\n",
    "        return options  # Return options dictionary\n",
    "\n",
    "    else:\n",
    "        print(f\"Failed to retrieve data. Status code: {response.status_code}\")\n",
    "        return None\n",
    "\n",
    "# Example usage:\n",
    "url = \"https://mb.vin/vin/1d6203438705783907c19db9d25339f4/options/\"\n",
    "scrape_options_table(url)\n"
   ]
  },
  {
   "cell_type": "code",
   "execution_count": 67,
   "metadata": {
    "ExecuteTime": {
     "end_time": "2024-07-06T18:07:35.356146Z",
     "start_time": "2024-07-06T18:07:35.332146Z"
    },
    "collapsed": true,
    "jupyter": {
     "outputs_hidden": true
    }
   },
   "outputs": [],
   "source": [
    "import requests\n",
    "from bs4 import BeautifulSoup\n",
    "from reportlab.lib.pagesizes import letter\n",
    "from reportlab.pdfgen import canvas\n",
    "\n",
    "def scrape_vehicle_info_and_options(vehicle_url, options_url, quotation_num):\n",
    "    \"\"\"Scrape vehicle information and options from the provided URLs and generate a multi-page PDF.\"\"\"\n",
    "    output_pdf = f\"PDFS/{quotation_num}/vehicle_info.pdf\"\n",
    "    # Function to scrape vehicle information\n",
    "    def scrape_vehicle_info(url):\n",
    "        # Send a GET request to the URL\n",
    "        response = requests.get(url)\n",
    "\n",
    "        if response.status_code == 200:\n",
    "            # Parse the HTML content\n",
    "            soup = BeautifulSoup(response.content, 'html.parser')\n",
    "\n",
    "            # Find the table element\n",
    "            table = soup.find('div', class_='table-responsive').find('table')\n",
    "\n",
    "            # Initialize a dictionary to store vehicle information\n",
    "            vehicle_info = {\n",
    "                \"VIN\": None,\n",
    "                \"Order\": None,\n",
    "                \"Engine\": None,\n",
    "                \"Transmission\": None,\n",
    "                \"Color\": None,\n",
    "                \"Upholstery\": None,\n",
    "                \"Production\": None,\n",
    "                \"Manufacturer\": None,\n",
    "                \"Delivery Date\": None\n",
    "            }\n",
    "\n",
    "            # Extract data from the table\n",
    "            rows = table.find_all('tr')\n",
    "            for row in rows:\n",
    "                th = row.find('th')\n",
    "                td = row.find('td')\n",
    "                if th and td:\n",
    "                    key = th.text.strip().rstrip(':')  # Remove trailing colon\n",
    "                    if key in vehicle_info:\n",
    "                        vehicle_info[key] = td.text.strip()\n",
    "\n",
    "            return vehicle_info\n",
    "\n",
    "        else:\n",
    "            print(f\"Failed to retrieve vehicle data. Status code: {response.status_code}\")\n",
    "            return None\n",
    "\n",
    "    # Function to scrape options information\n",
    "    def scrape_options_table(url):\n",
    "        # Send a GET request to the URL\n",
    "        response = requests.get(url)\n",
    "\n",
    "        if response.status_code == 200:\n",
    "            # Parse the HTML content\n",
    "            soup = BeautifulSoup(response.content, 'html.parser')\n",
    "\n",
    "            # Find the table element\n",
    "            table = soup.find('div', class_='table-responsive').find('table')\n",
    "\n",
    "            # Initialize a dictionary to store options\n",
    "            options = {}\n",
    "\n",
    "            # Extract data from the table\n",
    "            rows = table.find_all('tr')\n",
    "            for row in rows:\n",
    "                # Find td elements\n",
    "                tds = row.find_all('td')\n",
    "                if len(tds) == 2:  # Ensure we have two columns (image and description)\n",
    "                    description = tds[1].get_text(separator='\\n').strip() if tds[1] else None\n",
    "                    if description:\n",
    "                        # Extract option code from the description\n",
    "                        option_code = tds[1].find('b').get_text().strip() if tds[1].find('b') else None\n",
    "                        if option_code:\n",
    "                            options[option_code] = description\n",
    "\n",
    "            options = {key: value.split('\\n')[1] if '\\n' in value else value for key, value in options.items()}\n",
    "            return options\n",
    "\n",
    "        else:\n",
    "            print(f\"Failed to retrieve options data. Status code: {response.status_code}\")\n",
    "            return None\n",
    "\n",
    "    # Function to generate PDF\n",
    "    def generate_pdf(vehicle_info, options, output_pdf):\n",
    "        c = canvas.Canvas(output_pdf, pagesize=letter)\n",
    "        c.setLineWidth(.3)\n",
    "        c.setFont('Helvetica', 12)\n",
    "\n",
    "        # Generate vehicle information page\n",
    "        c.drawString(100, 750, \"Vehicle Information:\")\n",
    "        y_position = 730\n",
    "        for key, value in vehicle_info.items():\n",
    "            if value:  # Check if value is not None or empty\n",
    "                if y_position < 50:\n",
    "                    c.showPage()\n",
    "                    c.drawString(100, 750, \"Vehicle Information (continued):\")\n",
    "                    y_position = 730\n",
    "                y_position -= 20\n",
    "                c.drawString(120, y_position, f\"{key}: {value}\")\n",
    "\n",
    "        c.showPage()\n",
    "\n",
    "        # Generate options page\n",
    "        c.drawString(100, 750, \"Options:\")\n",
    "        y_position = 730\n",
    "        for key, value in options.items():\n",
    "            if y_position < 50:\n",
    "                c.showPage()\n",
    "                c.drawString(100, 750, \"Options (continued):\")\n",
    "                y_position = 730\n",
    "            y_position -= 20\n",
    "            c.drawString(120, y_position, f\"{key}: {value}\")\n",
    "\n",
    "        c.save()\n",
    "        print(f\"PDF saved successfully: {output_pdf}\")\n",
    "\n",
    "    # Scrape vehicle information\n",
    "    vehicle_info = scrape_vehicle_info(vehicle_url)\n",
    "\n",
    "    # Scrape options information\n",
    "    options = scrape_options_table(options_url)\n",
    "\n",
    "    # Generate PDF\n",
    "    if vehicle_info and options:\n",
    "        generate_pdf(vehicle_info, options, output_pdf)\n",
    "    else:\n",
    "        print(\"Failed to generate PDF. Check data retrieval.\")\n",
    "\n",
    "\n"
   ]
  },
  {
   "cell_type": "code",
   "execution_count": 68,
   "metadata": {
    "ExecuteTime": {
     "end_time": "2024-07-06T18:07:37.229132Z",
     "start_time": "2024-07-06T18:07:37.219132Z"
    },
    "collapsed": true,
    "jupyter": {
     "outputs_hidden": true
    }
   },
   "outputs": [],
   "source": [
    "from selenium import webdriver\n",
    "from selenium.webdriver.chrome.service import Service\n",
    "from webdriver_manager.chrome import ChromeDriverManager\n",
    "from selenium.webdriver.common.by import By\n",
    "import time\n",
    "\n",
    "def scrape_navigation_tabs(vin):\n",
    "    \"\"\"Scrape navigation tabs from mb.vin.\"\"\"\n",
    "    # Set up the WebDriver\n",
    "    service = Service(ChromeDriverManager().install())\n",
    "    driver = webdriver.Chrome(service=service)\n",
    "\n",
    "    url1 = \"\"\n",
    "    url2 = \"\"\n",
    "\n",
    "    try:\n",
    "        # Open the website\n",
    "        driver.get(\"https://mb.vin/\")\n",
    "\n",
    "        # Locate the VIN input field and enter the VIN\n",
    "        vin_input = driver.find_element(By.CLASS_NAME, \"form-control\")\n",
    "        vin_input.send_keys(vin)\n",
    "\n",
    "        # Wait for 20 seconds for CAPTCHA to be solved manually\n",
    "        print(\"Waiting for 20 seconds for CAPTCHA to be solved manually...\")\n",
    "        time.sleep(15)\n",
    "\n",
    "        # Locate and click the submit button\n",
    "        submit_button = driver.find_element(\n",
    "            By.CSS_SELECTOR, \"button.btn.btn-primary.btn-lg\"\n",
    "        )\n",
    "        submit_button.click()\n",
    "\n",
    "        # Wait for the results to load\n",
    "        driver.implicitly_wait(10)\n",
    "\n",
    "        # Find the navigation tabs container\n",
    "        nav_tabs = driver.find_element(By.ID, \"nav-tab\")\n",
    "\n",
    "        # Extract URLs and text from navigation tabs\n",
    "        nav_links = nav_tabs.find_elements(By.CLASS_NAME, \"nav-link\")\n",
    "        if len(nav_links) >= 2:\n",
    "            url1 = nav_links[0].get_attribute(\"href\")\n",
    "            url2 = nav_links[1].get_attribute(\"href\")\n",
    "\n",
    "    except Exception as e:\n",
    "        print(f\"An error occurred: {e}\")\n",
    "\n",
    "    finally:\n",
    "        # Close the driver\n",
    "        driver.quit()\n",
    "\n",
    "    return url1, url2\n",
    "\n"
   ]
  },
  {
   "cell_type": "code",
   "execution_count": 69,
   "metadata": {
    "ExecuteTime": {
     "end_time": "2024-07-06T18:08:14.055709Z",
     "start_time": "2024-07-06T18:07:43.422722Z"
    },
    "collapsed": true,
    "jupyter": {
     "outputs_hidden": true
    }
   },
   "outputs": [
    {
     "name": "stdout",
     "output_type": "stream",
     "text": [
      "Waiting for 20 seconds for CAPTCHA to be solved manually...\n",
      "PDF saved successfully: PDFS/1234/vehicle_info.pdf\n"
     ]
    }
   ],
   "source": [
    "vehicle_url, options_url = scrape_navigation_tabs(\"W1NKM5BB0PF030575\")\n",
    "quotation_num = 1234\n",
    "scrape_vehicle_info_and_options(vehicle_url, options_url, quotation_num)"
   ]
  },
  {
   "cell_type": "code",
   "execution_count": 70,
   "metadata": {
    "ExecuteTime": {
     "end_time": "2024-07-06T18:27:43.127692Z",
     "start_time": "2024-07-06T18:27:43.108190Z"
    },
    "collapsed": true,
    "jupyter": {
     "outputs_hidden": true
    }
   },
   "outputs": [],
   "source": [
    "def create_pdf_from_images(quotation_num):\n",
    "    main_folder = f\"Saved_images/{quotation_num}/car parts\"\n",
    "    output_pdf = \"Images.pdf\"\n",
    "\n",
    "    # Create a canvas object with letter size (8.5x11 inches)\n",
    "    c = canvas.Canvas(output_pdf, pagesize=letter)\n",
    "\n",
    "    # List of subfolders to process\n",
    "    subfolders = [\n",
    "        \"Full front view\",\n",
    "        \"Back view\",\n",
    "        \"Interior\",\n",
    "        \"Wheel\",\n",
    "        \"Headlight\",\n",
    "        \"Trunk\",\n",
    "        \"Side view\",\n",
    "        \"Engine\",\n",
    "    ]\n",
    "\n",
    "    try:\n",
    "        first_page = True  # Flag to track first page\n",
    "        y = None  # Variable to track vertical position\n",
    "\n",
    "        # Loop through each subfolder\n",
    "        for subfolder in subfolders:\n",
    "            folder_path = os.path.join(main_folder, subfolder)\n",
    "\n",
    "            # Check if the subfolder exists\n",
    "            if not os.path.exists(folder_path):\n",
    "                print(f\"Warning: Subfolder '{subfolder}' not found in '{main_folder}'. Skipping.\")\n",
    "                continue\n",
    "\n",
    "            # Get a list of image files in the subfolder\n",
    "            image_files = [\n",
    "                f\n",
    "                for f in os.listdir(folder_path)\n",
    "                if f.lower().endswith((\".jpg\", \".png\", \".jpeg\"))\n",
    "            ]\n",
    "\n",
    "            # Add title for the subfolder\n",
    "            c.setFont(\"Helvetica-Bold\", 14)\n",
    "            title_text = subfolder\n",
    "            title_width = c.stringWidth(title_text, \"Helvetica-Bold\", 14)\n",
    "            title_x = (letter[0] - title_width) / 2\n",
    "            title_y = letter[1] - 50\n",
    "            c.drawString(title_x, title_y, title_text)\n",
    "\n",
    "            # Adjust y position for images\n",
    "            y = title_y - 20\n",
    "\n",
    "            # Loop through each image file\n",
    "            for image_file in image_files:\n",
    "                image_path = os.path.join(folder_path, image_file)\n",
    "                img = Image.open(image_path)\n",
    "                width, height = img.size\n",
    "                max_width = 500  # Adjust this value as needed\n",
    "                max_height = 700  # Adjust this value as needed\n",
    "\n",
    "                # Resize the image if necessary\n",
    "                if width > max_width or height > max_height:\n",
    "                    ratio = min(max_width / width, max_height / height)\n",
    "                    width = int(width * ratio)\n",
    "                    height = int(height * ratio)\n",
    "\n",
    "                # Calculate the position to center the image horizontally\n",
    "                x = (letter[0] - width) / 2\n",
    "\n",
    "                # Check if there's enough space for the image on the current page\n",
    "                if y - height < 50:\n",
    "                    c.showPage()\n",
    "                    y = letter[1] - 50  # Reset y for new page\n",
    "                    first_page = False  # Set flag to False after the first page\n",
    "\n",
    "                # Draw the image on the canvas\n",
    "                c.drawImage(image_path, x, y - height, width, height)\n",
    "\n",
    "                # Update y position for the next image\n",
    "                y -= (height + 20)  # Adjust vertical spacing\n",
    "\n",
    "            # Add a new page for the next subfolder if not the last one\n",
    "            if subfolder != subfolders[-1]:\n",
    "                c.showPage()\n",
    "\n",
    "    except Exception as e:\n",
    "        print(f\"Error: {str(e)}\")\n",
    "\n",
    "    finally:\n",
    "        # Save the PDF\n",
    "        c.save()\n"
   ]
  },
  {
   "cell_type": "code",
   "execution_count": 71,
   "metadata": {
    "ExecuteTime": {
     "end_time": "2024-07-06T18:27:52.878466Z",
     "start_time": "2024-07-06T18:27:50.843304Z"
    },
    "collapsed": true,
    "jupyter": {
     "outputs_hidden": true
    }
   },
   "outputs": [
    {
     "name": "stdout",
     "output_type": "stream",
     "text": [
      "Warning: Subfolder 'Headlight' not found in 'Saved_images/5000/car parts'. Skipping.\n",
      "Warning: Subfolder 'Engine' not found in 'Saved_images/5000/car parts'. Skipping.\n"
     ]
    }
   ],
   "source": [
    "create_pdf_from_images(5000)"
   ]
  },
  {
   "cell_type": "code",
   "execution_count": 1,
   "metadata": {
    "ExecuteTime": {
     "end_time": "2024-07-08T09:54:55.123832Z",
     "start_time": "2024-07-08T09:54:54.414093Z"
    },
    "collapsed": true,
    "jupyter": {
     "outputs_hidden": true
    }
   },
   "outputs": [
    {
     "ename": "TypeError",
     "evalue": "expected str, bytes or os.PathLike object, not JpegImageFile",
     "output_type": "error",
     "traceback": [
      "\u001B[1;31m---------------------------------------------------------------------------\u001B[0m",
      "\u001B[1;31mTypeError\u001B[0m                                 Traceback (most recent call last)",
      "Cell \u001B[1;32mIn[1], line 64\u001B[0m\n\u001B[0;32m     62\u001B[0m \u001B[38;5;66;03m# Example usage:\u001B[39;00m\n\u001B[0;32m     63\u001B[0m quotation_number \u001B[38;5;241m=\u001B[39m \u001B[38;5;124m\"\u001B[39m\u001B[38;5;124mGO_admin_08.07.2024_2_A\u001B[39m\u001B[38;5;124m\"\u001B[39m\n\u001B[1;32m---> 64\u001B[0m \u001B[43mgenerate_image_pdf\u001B[49m\u001B[43m(\u001B[49m\u001B[43mquotation_number\u001B[49m\u001B[43m)\u001B[49m\n",
      "Cell \u001B[1;32mIn[1], line 54\u001B[0m, in \u001B[0;36mgenerate_image_pdf\u001B[1;34m(quotation_num)\u001B[0m\n\u001B[0;32m     52\u001B[0m \u001B[38;5;66;03m# Iterate through image_list and draw each image on a new page\u001B[39;00m\n\u001B[0;32m     53\u001B[0m \u001B[38;5;28;01mfor\u001B[39;00m img \u001B[38;5;129;01min\u001B[39;00m image_list:\n\u001B[1;32m---> 54\u001B[0m     \u001B[43mc\u001B[49m\u001B[38;5;241;43m.\u001B[39;49m\u001B[43mdrawImage\u001B[49m\u001B[43m(\u001B[49m\u001B[43mimg\u001B[49m\u001B[43m,\u001B[49m\u001B[43m \u001B[49m\u001B[38;5;241;43m100\u001B[39;49m\u001B[43m,\u001B[49m\u001B[43m \u001B[49m\u001B[38;5;241;43m100\u001B[39;49m\u001B[43m,\u001B[49m\u001B[43m \u001B[49m\u001B[43mwidth\u001B[49m\u001B[38;5;241;43m=\u001B[39;49m\u001B[43mimage_width\u001B[49m\u001B[43m,\u001B[49m\u001B[43m \u001B[49m\u001B[43mheight\u001B[49m\u001B[38;5;241;43m=\u001B[39;49m\u001B[43mimage_height\u001B[49m\u001B[43m)\u001B[49m\n\u001B[0;32m     55\u001B[0m     c\u001B[38;5;241m.\u001B[39mshowPage()\n\u001B[0;32m     57\u001B[0m \u001B[38;5;66;03m# Save the PDF file\u001B[39;00m\n",
      "File \u001B[1;32m~\\PycharmProjects\\pythonProject1\\.venv\\lib\\site-packages\\reportlab\\pdfgen\\canvas.py:1002\u001B[0m, in \u001B[0;36mCanvas.drawImage\u001B[1;34m(self, image, x, y, width, height, mask, preserveAspectRatio, anchor, anchorAtXY, showBoundary, extraReturn)\u001B[0m\n\u001B[0;32m    999\u001B[0m imgObj \u001B[38;5;241m=\u001B[39m \u001B[38;5;28mself\u001B[39m\u001B[38;5;241m.\u001B[39m_doc\u001B[38;5;241m.\u001B[39midToObject\u001B[38;5;241m.\u001B[39mget(regName, \u001B[38;5;28;01mNone\u001B[39;00m)\n\u001B[0;32m   1000\u001B[0m \u001B[38;5;28;01mif\u001B[39;00m \u001B[38;5;129;01mnot\u001B[39;00m imgObj:\n\u001B[0;32m   1001\u001B[0m     \u001B[38;5;66;03m#first time seen, create and register the PDFImageXobject\u001B[39;00m\n\u001B[1;32m-> 1002\u001B[0m     imgObj \u001B[38;5;241m=\u001B[39m \u001B[43mpdfdoc\u001B[49m\u001B[38;5;241;43m.\u001B[39;49m\u001B[43mPDFImageXObject\u001B[49m\u001B[43m(\u001B[49m\u001B[43mname\u001B[49m\u001B[43m,\u001B[49m\u001B[43m \u001B[49m\u001B[43mimage\u001B[49m\u001B[43m,\u001B[49m\u001B[43m \u001B[49m\u001B[43mmask\u001B[49m\u001B[38;5;241;43m=\u001B[39;49m\u001B[43mmask\u001B[49m\u001B[43m)\u001B[49m\n\u001B[0;32m   1003\u001B[0m     imgObj\u001B[38;5;241m.\u001B[39mname \u001B[38;5;241m=\u001B[39m name\n\u001B[0;32m   1004\u001B[0m     \u001B[38;5;28mself\u001B[39m\u001B[38;5;241m.\u001B[39m_setXObjects(imgObj)\n",
      "File \u001B[1;32m~\\PycharmProjects\\pythonProject1\\.venv\\lib\\site-packages\\reportlab\\pdfbase\\pdfdoc.py:2108\u001B[0m, in \u001B[0;36mPDFImageXObject.__init__\u001B[1;34m(self, name, source, mask)\u001B[0m\n\u001B[0;32m   2105\u001B[0m \u001B[38;5;28;01melse\u001B[39;00m:\n\u001B[0;32m   2106\u001B[0m     \u001B[38;5;66;03m# it is a filename\u001B[39;00m\n\u001B[0;32m   2107\u001B[0m     \u001B[38;5;28;01mimport\u001B[39;00m \u001B[38;5;21;01mos\u001B[39;00m\n\u001B[1;32m-> 2108\u001B[0m     ext \u001B[38;5;241m=\u001B[39m \u001B[43mos\u001B[49m\u001B[38;5;241;43m.\u001B[39;49m\u001B[43mpath\u001B[49m\u001B[38;5;241;43m.\u001B[39;49m\u001B[43msplitext\u001B[49m\u001B[43m(\u001B[49m\u001B[43msource\u001B[49m\u001B[43m)\u001B[49m[\u001B[38;5;241m1\u001B[39m]\u001B[38;5;241m.\u001B[39mlower()\n\u001B[0;32m   2109\u001B[0m     src \u001B[38;5;241m=\u001B[39m open_for_read(source)\n\u001B[0;32m   2110\u001B[0m     \u001B[38;5;28;01mtry\u001B[39;00m:\n",
      "File \u001B[1;32m~\\AppData\\Local\\Programs\\Python\\Python39\\lib\\ntpath.py:204\u001B[0m, in \u001B[0;36msplitext\u001B[1;34m(p)\u001B[0m\n\u001B[0;32m    203\u001B[0m \u001B[38;5;28;01mdef\u001B[39;00m \u001B[38;5;21msplitext\u001B[39m(p):\n\u001B[1;32m--> 204\u001B[0m     p \u001B[38;5;241m=\u001B[39m \u001B[43mos\u001B[49m\u001B[38;5;241;43m.\u001B[39;49m\u001B[43mfspath\u001B[49m\u001B[43m(\u001B[49m\u001B[43mp\u001B[49m\u001B[43m)\u001B[49m\n\u001B[0;32m    205\u001B[0m     \u001B[38;5;28;01mif\u001B[39;00m \u001B[38;5;28misinstance\u001B[39m(p, \u001B[38;5;28mbytes\u001B[39m):\n\u001B[0;32m    206\u001B[0m         \u001B[38;5;28;01mreturn\u001B[39;00m genericpath\u001B[38;5;241m.\u001B[39m_splitext(p, \u001B[38;5;124mb\u001B[39m\u001B[38;5;124m'\u001B[39m\u001B[38;5;130;01m\\\\\u001B[39;00m\u001B[38;5;124m'\u001B[39m, \u001B[38;5;124mb\u001B[39m\u001B[38;5;124m'\u001B[39m\u001B[38;5;124m/\u001B[39m\u001B[38;5;124m'\u001B[39m, \u001B[38;5;124mb\u001B[39m\u001B[38;5;124m'\u001B[39m\u001B[38;5;124m.\u001B[39m\u001B[38;5;124m'\u001B[39m)\n",
      "\u001B[1;31mTypeError\u001B[0m: expected str, bytes or os.PathLike object, not JpegImageFile"
     ]
    }
   ],
   "source": []
  },
  {
   "cell_type": "code",
   "execution_count": 1,
   "metadata": {
    "jupyter": {
     "is_executing": true
    }
   },
   "outputs": [
    {
     "data": {
      "text/plain": [
       "2"
      ]
     },
     "execution_count": 1,
     "metadata": {},
     "output_type": "execute_result"
    }
   ],
   "source": [
    "1+1"
   ]
  },
  {
   "cell_type": "code",
   "execution_count": 4,
   "metadata": {},
   "outputs": [
    {
     "name": "stdout",
     "output_type": "stream",
     "text": [
      "Processing subfolder: Full front view\n",
      "Loaded image: Saved_images\\GO_admin_08.07.2024_1_A\\car parts\\Full front view\\img-0.jpg\n",
      "Loaded image: Saved_images\\GO_admin_08.07.2024_1_A\\car parts\\Full front view\\img-3.jpg\n",
      "Processing subfolder: Back view\n",
      "Loaded image: Saved_images\\GO_admin_08.07.2024_1_A\\car parts\\Back view\\img-1.jpg\n",
      "Loaded image: Saved_images\\GO_admin_08.07.2024_1_A\\car parts\\Back view\\img-2.jpg\n",
      "Processing subfolder: Interior\n",
      "Loaded image: Saved_images\\GO_admin_08.07.2024_1_A\\car parts\\Interior\\img-10.jpg\n",
      "Loaded image: Saved_images\\GO_admin_08.07.2024_1_A\\car parts\\Interior\\img-11.jpg\n",
      "Loaded image: Saved_images\\GO_admin_08.07.2024_1_A\\car parts\\Interior\\img-12.jpg\n",
      "Loaded image: Saved_images\\GO_admin_08.07.2024_1_A\\car parts\\Interior\\img-13.jpg\n",
      "Loaded image: Saved_images\\GO_admin_08.07.2024_1_A\\car parts\\Interior\\img-14.jpg\n",
      "Loaded image: Saved_images\\GO_admin_08.07.2024_1_A\\car parts\\Interior\\img-16.jpg\n",
      "Loaded image: Saved_images\\GO_admin_08.07.2024_1_A\\car parts\\Interior\\img-17.jpg\n",
      "Loaded image: Saved_images\\GO_admin_08.07.2024_1_A\\car parts\\Interior\\img-18.jpg\n",
      "Loaded image: Saved_images\\GO_admin_08.07.2024_1_A\\car parts\\Interior\\img-19.jpg\n",
      "Loaded image: Saved_images\\GO_admin_08.07.2024_1_A\\car parts\\Interior\\img-20.jpg\n",
      "Loaded image: Saved_images\\GO_admin_08.07.2024_1_A\\car parts\\Interior\\img-22.jpg\n",
      "Loaded image: Saved_images\\GO_admin_08.07.2024_1_A\\car parts\\Interior\\img-23.jpg\n",
      "Loaded image: Saved_images\\GO_admin_08.07.2024_1_A\\car parts\\Interior\\img-24.jpg\n",
      "Loaded image: Saved_images\\GO_admin_08.07.2024_1_A\\car parts\\Interior\\img-25.jpg\n",
      "Loaded image: Saved_images\\GO_admin_08.07.2024_1_A\\car parts\\Interior\\img-26.jpg\n",
      "Loaded image: Saved_images\\GO_admin_08.07.2024_1_A\\car parts\\Interior\\img-29.jpg\n",
      "Loaded image: Saved_images\\GO_admin_08.07.2024_1_A\\car parts\\Interior\\img-30.jpg\n",
      "Loaded image: Saved_images\\GO_admin_08.07.2024_1_A\\car parts\\Interior\\img-32.jpg\n",
      "Loaded image: Saved_images\\GO_admin_08.07.2024_1_A\\car parts\\Interior\\img-4.jpg\n",
      "Loaded image: Saved_images\\GO_admin_08.07.2024_1_A\\car parts\\Interior\\img-5.jpg\n",
      "Loaded image: Saved_images\\GO_admin_08.07.2024_1_A\\car parts\\Interior\\img-6.jpg\n",
      "Loaded image: Saved_images\\GO_admin_08.07.2024_1_A\\car parts\\Interior\\img-7.jpg\n",
      "Loaded image: Saved_images\\GO_admin_08.07.2024_1_A\\car parts\\Interior\\img-8.jpg\n",
      "Loaded image: Saved_images\\GO_admin_08.07.2024_1_A\\car parts\\Interior\\img-9.jpg\n",
      "Processing subfolder: Wheel\n",
      "Loaded image: Saved_images\\GO_admin_08.07.2024_1_A\\car parts\\Wheel\\img-31.jpg\n",
      "Subfolder 'Headlight' does not exist. Skipping...\n",
      "Processing subfolder: Trunk\n",
      "Loaded image: Saved_images\\GO_admin_08.07.2024_1_A\\car parts\\Trunk\\img-21.jpg\n",
      "Loaded image: Saved_images\\GO_admin_08.07.2024_1_A\\car parts\\Trunk\\img-27.jpg\n",
      "Loaded image: Saved_images\\GO_admin_08.07.2024_1_A\\car parts\\Trunk\\img-28.jpg\n",
      "Processing subfolder: Side view\n",
      "Loaded image: Saved_images\\GO_admin_08.07.2024_1_A\\car parts\\Side view\\img-15.jpg\n",
      "Loaded image: Saved_images\\GO_admin_08.07.2024_1_A\\car parts\\Side view\\img-33.jpg\n",
      "Loaded image: Saved_images\\GO_admin_08.07.2024_1_A\\car parts\\Side view\\img-34.jpg\n",
      "Subfolder 'Engine' does not exist. Skipping...\n",
      "PDF created: PDFS\\GO_admin_08.07.2024_1_A\\Image.pdf\n"
     ]
    }
   ],
   "source": [
    "from reportlab.lib.pagesizes import letter\n",
    "from reportlab.pdfgen import canvas\n",
    "from PIL import Image\n",
    "\n",
    "import pathlib\n",
    "import tempfile\n",
    "\n",
    "\n",
    "def generate_car_parts_pdf(quotation_num):\n",
    "    main_dir = pathlib.Path(f'Saved_images/{str(quotation_num)}/car parts')\n",
    "    subfolders = [\n",
    "        \"Full front view\",\n",
    "        \"Back view\",\n",
    "        \"Interior\",\n",
    "        \"Wheel\",\n",
    "        \"Headlight\",\n",
    "        \"Trunk\",\n",
    "        \"Side view\",\n",
    "        \"Engine\",\n",
    "    ]\n",
    "\n",
    "    # Create PDF directory if it doesn't exist\n",
    "    pdf_dir = pathlib.Path(f'PDFS/{quotation_num}')\n",
    "    pdf_dir.mkdir(parents=True, exist_ok=True)\n",
    "\n",
    "    # List to store image objects\n",
    "    images_list = []\n",
    "\n",
    "    # Loop through each subfolder\n",
    "    for subfolder in subfolders:\n",
    "        subfolder_path = main_dir / subfolder\n",
    "\n",
    "        # Check if the subfolder exists\n",
    "        if subfolder_path.exists():\n",
    "            print(f\"Processing subfolder: {subfolder}\")\n",
    "\n",
    "            # List all image files in the subfolder\n",
    "            image_files = list(subfolder_path.glob('*.[pj][npvai][meg]*'))\n",
    "\n",
    "            if not image_files:\n",
    "                print(f\"No images found in subfolder '{subfolder}'.\")\n",
    "\n",
    "            # Load images and append to images_list\n",
    "            for image_file in image_files:\n",
    "                try:\n",
    "                    img = Image.open(image_file)\n",
    "                    images_list.append(img)\n",
    "                    print(f\"Loaded image: {image_file}\")\n",
    "                except Exception as e:\n",
    "                    print(f\"Error loading image '{image_file}': {e}\")\n",
    "        else:\n",
    "            print(f\"Subfolder '{subfolder}' does not exist. Skipping...\")\n",
    "\n",
    "    # Create a PDF using reportlab\n",
    "    def create_pdf(images, output_filename):\n",
    "        c = canvas.Canvas(str(output_filename), pagesize=letter)\n",
    "        width, height = letter\n",
    "\n",
    "        # Define margins and image size\n",
    "        margin = 50\n",
    "        img_width = width - 2 * margin\n",
    "        img_height = height - 2 * margin\n",
    "\n",
    "        # Calculate positions for images\n",
    "        y_position = height - margin\n",
    "        for img in images:\n",
    "            img_width, img_height = img.size\n",
    "            aspect_ratio = img_width / img_height\n",
    "\n",
    "            # Check if image fits on the page\n",
    "            if img_height > height - 2 * margin or img_width > width - 2 * margin:\n",
    "                img_width = width - 2 * margin\n",
    "                img_height = img_width / aspect_ratio\n",
    "\n",
    "            # Save image to a temporary file\n",
    "            with tempfile.NamedTemporaryFile(delete=False) as tmpfile:\n",
    "                img.save(tmpfile.name, format='JPEG')\n",
    "\n",
    "                # Draw image on canvas\n",
    "                c.drawImage(tmpfile.name, margin, y_position - img_height, width=img_width, height=img_height)\n",
    "\n",
    "            y_position -= img_height + margin\n",
    "\n",
    "            # Add a page break if there's space left\n",
    "            if y_position - img_height <= margin:\n",
    "                c.showPage()\n",
    "                y_position = height - margin\n",
    "\n",
    "        # Save the PDF file\n",
    "        c.save()\n",
    "\n",
    "        print(f\"PDF created: {output_filename}\")\n",
    "\n",
    "    # Generate PDF with the list of images\n",
    "    output_pdf = pathlib.Path(f'PDFS/{quotation_num}/Image.pdf')\n",
    "    create_pdf(images_list, output_pdf)\n",
    "\n",
    "\n",
    "# Example usage:\n",
    "quotation_num = \"GO_admin_08.07.2024_1_A\"\n",
    "generate_car_parts_pdf(quotation_num)\n"
   ]
  },
  {
   "cell_type": "code",
   "execution_count": null,
   "metadata": {},
   "outputs": [],
   "source": []
  }
 ],
 "metadata": {
  "kernelspec": {
   "display_name": "Python 3 (ipykernel)",
   "language": "python",
   "name": "python3"
  },
  "language_info": {
   "codemirror_mode": {
    "name": "ipython",
    "version": 3
   },
   "file_extension": ".py",
   "mimetype": "text/x-python",
   "name": "python",
   "nbconvert_exporter": "python",
   "pygments_lexer": "ipython3",
   "version": "3.9.13"
  }
 },
 "nbformat": 4,
 "nbformat_minor": 4
}
